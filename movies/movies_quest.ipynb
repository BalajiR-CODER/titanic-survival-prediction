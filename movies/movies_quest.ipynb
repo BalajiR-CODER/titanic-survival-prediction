{
 "cells": [
  {
   "cell_type": "markdown",
   "id": "3ec57637",
   "metadata": {},
   "source": [
    "DATA ANALYSIS\n",
    "------------------------------------------------------\n",
    "\n",
    "How many unique movies are in the dataset?\n",
    "\n",
    "What is the average IMDb rating of all movies?\n",
    "\n",
    "\n",
    "How many movies were released each year?\n",
    "\n",
    "What is the most common genre in the dataset?\n",
    "\n",
    "What is the most common language for movies?\n",
    "\n",
    "How many movies are available on each streaming platform?\n",
    "\n",
    "Which platform has the highest average IMDb rating?\n",
    "\n",
    "Are there any movies available on all four platforms (Netflix, Hulu, Prime Video, Disney+)?\n",
    "\n",
    "Which platform has the most movies with an IMDb rating above 8.0?\n",
    "\n",
    "Which platform has the most movies released after 2015?\n",
    "\n",
    "What are the top 5 genres with the most movies?\n",
    "\n",
    "Which genre has the highest average IMDb rating?\n",
    "\n",
    "What is the most popular genre on Netflix?\n",
    "\n",
    "How many movies in the Comedy genre have an IMDb rating above 7.5?\n",
    "\n",
    "What is the average IMDb rating for Horror movies?\n",
    "\n",
    "Who are the top 5 directors with the most movies in the dataset?\n",
    "\n",
    "Which director has the highest average IMDb rating?\n",
    "\n",
    "Which director has made the most Action movies?\n",
    "\n",
    "What is the average IMDb rating of movies directed by Christopher Nolan?\n",
    "\n",
    "How many movies by Steven Spielberg are available on Prime Video?\n",
    "\n",
    "What are the top 5 most common languages in the dataset?\n",
    "\n",
    "What is the average IMDb rating of French movies?\n",
    "\n",
    "How many movies are from the United States?\n",
    "\n",
    "Which country has produced the most Drama movies?\n",
    "\n",
    "What is the most common language for movies on Hulu?\n",
    "\n",
    "IMDb and Rotten Tomatoes Score Analysis\n",
    "\n",
    "What is the highest IMDb rating in the dataset, and which movie has it?\n",
    "\n",
    "What is the lowest Rotten Tomatoes score, and which movie has it?\n",
    "\n",
    "What is the correlation between IMDb ratings and Rotten Tomatoes scores?\n",
    "\n",
    "How many movies have both IMDb rating above 8.0 and Rotten Tomatoes score above 90%?\n",
    "\n",
    "Which platform has the highest average Rotten Tomatoes score?\n",
    "\n",
    "What is the average runtime of all movies?\n",
    "\n",
    "Which movie has the longest runtime?\n",
    "\n",
    "Which genre tends to have the longest runtime on average?\n",
    "\n",
    "How many movies have a runtime of less than 60 minutes?\n",
    "\n",
    "What is the average IMDb rating for movies with a runtime above 150 minutes?\n",
    "\n"
   ]
  },
  {
   "cell_type": "code",
   "execution_count": 97,
   "id": "7c36f735",
   "metadata": {},
   "outputs": [],
   "source": [
    "import seaborn as sns\n",
    "import pandas as pd\n",
    "import numpy as np\n",
    "import numpy.random as rnd\n",
    "import matplotlib.pyplot as plt"
   ]
  },
  {
   "cell_type": "code",
   "execution_count": 98,
   "id": "9561597e",
   "metadata": {},
   "outputs": [],
   "source": [
    "df=pd.read_csv('Movies.csv')"
   ]
  },
  {
   "cell_type": "code",
   "execution_count": 99,
   "id": "ef35130b",
   "metadata": {},
   "outputs": [
    {
     "data": {
      "text/plain": [
       "Index(['Unnamed: 0', 'ID', 'Title', 'Year', 'Age', 'IMDb', 'Rotten Tomatoes',\n",
       "       'Netflix', 'Hulu', 'Prime Video', 'Disney+', 'Type', 'Directors',\n",
       "       'Genres', 'Country', 'Language', 'Runtime'],\n",
       "      dtype='object')"
      ]
     },
     "execution_count": 99,
     "metadata": {},
     "output_type": "execute_result"
    }
   ],
   "source": [
    "df.columns"
   ]
  },
  {
   "cell_type": "code",
   "execution_count": 100,
   "id": "22105015",
   "metadata": {},
   "outputs": [
    {
     "name": "stdout",
     "output_type": "stream",
     "text": [
      "<class 'pandas.core.frame.DataFrame'>\n",
      "RangeIndex: 16744 entries, 0 to 16743\n",
      "Data columns (total 17 columns):\n",
      " #   Column           Non-Null Count  Dtype  \n",
      "---  ------           --------------  -----  \n",
      " 0   Unnamed: 0       16744 non-null  int64  \n",
      " 1   ID               16744 non-null  int64  \n",
      " 2   Title            16744 non-null  object \n",
      " 3   Year             16744 non-null  int64  \n",
      " 4   Age              7354 non-null   object \n",
      " 5   IMDb             16173 non-null  float64\n",
      " 6   Rotten Tomatoes  5158 non-null   object \n",
      " 7   Netflix          16744 non-null  int64  \n",
      " 8   Hulu             16744 non-null  int64  \n",
      " 9   Prime Video      16744 non-null  int64  \n",
      " 10  Disney+          16744 non-null  int64  \n",
      " 11  Type             16744 non-null  int64  \n",
      " 12  Directors        16018 non-null  object \n",
      " 13  Genres           16469 non-null  object \n",
      " 14  Country          16309 non-null  object \n",
      " 15  Language         16130 non-null  object \n",
      " 16  Runtime          16152 non-null  float64\n",
      "dtypes: float64(2), int64(8), object(7)\n",
      "memory usage: 2.2+ MB\n"
     ]
    }
   ],
   "source": [
    "df.info()"
   ]
  },
  {
   "cell_type": "code",
   "execution_count": 101,
   "id": "b8c0025e",
   "metadata": {},
   "outputs": [
    {
     "data": {
      "text/plain": [
       "np.False_"
      ]
     },
     "execution_count": 101,
     "metadata": {},
     "output_type": "execute_result"
    }
   ],
   "source": [
    "df.duplicated().any()"
   ]
  },
  {
   "cell_type": "code",
   "execution_count": 102,
   "id": "668d1f13",
   "metadata": {},
   "outputs": [],
   "source": [
    "a=df['Age'].mode()\n",
    "im=df['IMDb'].mean()\n",
    "rt=df['Rotten Tomatoes'].mode()\n",
    "ct=df['Country'].mode()\n",
    "dir=df['Directors'].mode()\n",
    "lt=df['Language'].mode()\n",
    "rt=df['Runtime'].mean()\n"
   ]
  },
  {
   "cell_type": "code",
   "execution_count": 103,
   "id": "fc9061e8",
   "metadata": {},
   "outputs": [],
   "source": [
    "df['Age']=df['Age'].fillna(a)\n",
    "df['IMDb']=df['IMDb'].fillna(im)\n",
    "df['Rotten Tomatoes']=df['Rotten Tomatoes'].fillna(rt)\n",
    "df['Country']=df['Country'].fillna(ct)\n",
    "df['Directors']=df['Directors'].fillna(dir)\n",
    "df['Language']=df['Language'].fillna(lt)\n",
    "df['Runtime']=df['Runtime'].fillna(rt)"
   ]
  },
  {
   "cell_type": "code",
   "execution_count": 104,
   "id": "559828b9",
   "metadata": {},
   "outputs": [
    {
     "name": "stdout",
     "output_type": "stream",
     "text": [
      "<class 'pandas.core.frame.DataFrame'>\n",
      "RangeIndex: 16744 entries, 0 to 16743\n",
      "Data columns (total 17 columns):\n",
      " #   Column           Non-Null Count  Dtype  \n",
      "---  ------           --------------  -----  \n",
      " 0   Unnamed: 0       16744 non-null  int64  \n",
      " 1   ID               16744 non-null  int64  \n",
      " 2   Title            16744 non-null  object \n",
      " 3   Year             16744 non-null  int64  \n",
      " 4   Age              7354 non-null   object \n",
      " 5   IMDb             16744 non-null  float64\n",
      " 6   Rotten Tomatoes  16744 non-null  object \n",
      " 7   Netflix          16744 non-null  int64  \n",
      " 8   Hulu             16744 non-null  int64  \n",
      " 9   Prime Video      16744 non-null  int64  \n",
      " 10  Disney+          16744 non-null  int64  \n",
      " 11  Type             16744 non-null  int64  \n",
      " 12  Directors        16018 non-null  object \n",
      " 13  Genres           16469 non-null  object \n",
      " 14  Country          16309 non-null  object \n",
      " 15  Language         16130 non-null  object \n",
      " 16  Runtime          16744 non-null  float64\n",
      "dtypes: float64(2), int64(8), object(7)\n",
      "memory usage: 2.2+ MB\n"
     ]
    }
   ],
   "source": [
    "df.info()"
   ]
  },
  {
   "cell_type": "code",
   "execution_count": 105,
   "id": "617c5636",
   "metadata": {},
   "outputs": [],
   "source": [
    "df=df.drop(columns=['Unnamed: 0'])"
   ]
  },
  {
   "cell_type": "code",
   "execution_count": 106,
   "id": "b2e683e8",
   "metadata": {},
   "outputs": [],
   "source": [
    "df['Rotten Tomatoes'] = df['Rotten Tomatoes'].str.rstrip('%').astype(float) / 10"
   ]
  },
  {
   "cell_type": "code",
   "execution_count": 107,
   "id": "ecc6e150",
   "metadata": {},
   "outputs": [],
   "source": [
    "platform_df = pd.melt(df,id_vars=['Title','IMDb', 'Rotten Tomatoes'],value_vars=['Netflix','Hulu','Prime Video','Disney+']\n",
    "        ,var_name='Platform',value_name='Availability')"
   ]
  },
  {
   "cell_type": "code",
   "execution_count": 108,
   "id": "2d360b00",
   "metadata": {},
   "outputs": [],
   "source": [
    "df['Rotten Tomatoes'] = pd.to_numeric(df['Rotten Tomatoes'], errors='coerce')\n",
    "df['IMDb'] = pd.to_numeric(df['IMDb'], errors='coerce')"
   ]
  },
  {
   "cell_type": "code",
   "execution_count": 109,
   "id": "4aff563d",
   "metadata": {},
   "outputs": [],
   "source": [
    "df['Runtime'] = df['Runtime'].astype(int)"
   ]
  },
  {
   "cell_type": "markdown",
   "id": "9e24f852",
   "metadata": {},
   "source": [
    "How many unique movies are in the dataset?"
   ]
  },
  {
   "cell_type": "code",
   "execution_count": 110,
   "id": "4b68a7cd",
   "metadata": {},
   "outputs": [
    {
     "data": {
      "text/plain": [
       "16744"
      ]
     },
     "execution_count": 110,
     "metadata": {},
     "output_type": "execute_result"
    }
   ],
   "source": [
    "df['Title'].unique().shape[0]"
   ]
  },
  {
   "cell_type": "markdown",
   "id": "3d08b680",
   "metadata": {},
   "source": [
    "What is the average IMDb rating of all movies?"
   ]
  },
  {
   "cell_type": "code",
   "execution_count": 111,
   "id": "dcee5b0e",
   "metadata": {},
   "outputs": [
    {
     "data": {
      "text/plain": [
       "np.float64(5.902751499412601)"
      ]
     },
     "execution_count": 111,
     "metadata": {},
     "output_type": "execute_result"
    }
   ],
   "source": [
    "df['IMDb'].mean()"
   ]
  },
  {
   "cell_type": "markdown",
   "id": "6e08561f",
   "metadata": {},
   "source": [
    "How many movies were released each year?"
   ]
  },
  {
   "cell_type": "code",
   "execution_count": 112,
   "id": "ad606ec5",
   "metadata": {},
   "outputs": [
    {
     "name": "stdout",
     "output_type": "stream",
     "text": [
      "     Year  Number_of_Movies\n",
      "0    1902                 1\n",
      "1    1912                 1\n",
      "2    1913                 2\n",
      "3    1915                 4\n",
      "4    1916                 1\n",
      "..    ...               ...\n",
      "104  2016              1206\n",
      "105  2017              1401\n",
      "106  2018              1285\n",
      "107  2019               689\n",
      "108  2020               147\n",
      "\n",
      "[109 rows x 2 columns]\n"
     ]
    }
   ],
   "source": [
    "movies_per_year = df.groupby('Year')['Title'].count().reset_index()\n",
    "movies_per_year.columns = ['Year', 'Number_of_Movies']\n",
    "print(movies_per_year)\n"
   ]
  },
  {
   "cell_type": "markdown",
   "id": "88d7ea1d",
   "metadata": {},
   "source": [
    "What is the most common genre in the dataset?"
   ]
  },
  {
   "cell_type": "code",
   "execution_count": 113,
   "id": "957e8cb1",
   "metadata": {},
   "outputs": [
    {
     "name": "stdout",
     "output_type": "stream",
     "text": [
      "Most Common Genre: Drama\n",
      "Count: 7227\n"
     ]
    }
   ],
   "source": [
    "# Split genres into separate values\n",
    "genre_counts = df['Genres'].str.split(',', expand=True).stack().value_counts()\n",
    "\n",
    "# Most common genre\n",
    "most_common_genre = genre_counts.idxmax()\n",
    "most_common_count = genre_counts.max()\n",
    "\n",
    "print(\"Most Common Genre:\", most_common_genre)\n",
    "print(\"Count:\", most_common_count)\n"
   ]
  },
  {
   "cell_type": "markdown",
   "id": "b8c29a7f",
   "metadata": {},
   "source": [
    "What is the most common language for movies?"
   ]
  },
  {
   "cell_type": "code",
   "execution_count": 114,
   "id": "b7b70264",
   "metadata": {},
   "outputs": [
    {
     "name": "stdout",
     "output_type": "stream",
     "text": [
      "Most Common Language: English\n",
      "Count: 13233\n"
     ]
    }
   ],
   "source": [
    "# Split languages and count frequencies\n",
    "language_counts = df['Language'].str.split(',', expand=True).stack().value_counts()\n",
    "\n",
    "# Most common language\n",
    "most_common_language = language_counts.idxmax()\n",
    "most_common_count = language_counts.max()\n",
    "\n",
    "print(\"Most Common Language:\", most_common_language)\n",
    "print(\"Count:\", most_common_count)\n"
   ]
  },
  {
   "cell_type": "markdown",
   "id": "b5cb39b2",
   "metadata": {},
   "source": [
    "How many movies are available on each streaming platform?"
   ]
  },
  {
   "cell_type": "code",
   "execution_count": 115,
   "id": "5681b70a",
   "metadata": {},
   "outputs": [
    {
     "name": "stdout",
     "output_type": "stream",
     "text": [
      "Netflix         3560\n",
      "Hulu             903\n",
      "Prime Video    12354\n",
      "Disney+          564\n",
      "dtype: int64\n"
     ]
    }
   ],
   "source": [
    "platform_counts = df[['Netflix', 'Hulu', 'Prime Video', 'Disney+']].sum()\n",
    "\n",
    "print(platform_counts)\n"
   ]
  },
  {
   "cell_type": "markdown",
   "id": "261de352",
   "metadata": {},
   "source": [
    "Which platform has the highest average IMDb rating?"
   ]
  },
  {
   "cell_type": "code",
   "execution_count": 116,
   "id": "69828be5",
   "metadata": {},
   "outputs": [
    {
     "name": "stdout",
     "output_type": "stream",
     "text": [
      "{'Netflix': np.float64(6.241355246328845), 'Hulu': np.float64(6.1352494645554145), 'Prime Video': np.float64(5.775669999088394), 'Disney+': np.float64(6.440430410459951)}\n",
      "Highest Avg IMDb Platform: Disney+\n"
     ]
    }
   ],
   "source": [
    "platform_avg_imdb = {\n",
    "    \"Netflix\": df.loc[df[\"Netflix\"] == 1, \"IMDb\"].mean(),\n",
    "    \"Hulu\": df.loc[df[\"Hulu\"] == 1, \"IMDb\"].mean(),\n",
    "    \"Prime Video\": df.loc[df[\"Prime Video\"] == 1, \"IMDb\"].mean(),\n",
    "    \"Disney+\": df.loc[df[\"Disney+\"] == 1, \"IMDb\"].mean()\n",
    "}\n",
    "\n",
    "print(platform_avg_imdb)\n",
    "print(\"Highest Avg IMDb Platform:\", max(platform_avg_imdb, key=platform_avg_imdb.get))\n",
    "\n"
   ]
  },
  {
   "cell_type": "markdown",
   "id": "ca26bb36",
   "metadata": {},
   "source": [
    "Are there any movies available on all four platforms (Netflix, Hulu, Prime Video, Disney+)?"
   ]
  },
  {
   "cell_type": "code",
   "execution_count": 117,
   "id": "178ab23e",
   "metadata": {},
   "outputs": [
    {
     "name": "stdout",
     "output_type": "stream",
     "text": [
      "Number of movies on all 4 platforms: 0\n",
      "Empty DataFrame\n",
      "Columns: [Title, Netflix, Hulu, Prime Video, Disney+]\n",
      "Index: []\n"
     ]
    }
   ],
   "source": [
    "# Filter movies available on all 4 platforms\n",
    "all_platforms = df[(df['Netflix']==1) & (df['Hulu']==1) & (df['Prime Video']==1) & (df['Disney+']==1)]\n",
    "\n",
    "print(\"Number of movies on all 4 platforms:\", len(all_platforms))\n",
    "print(all_platforms[['Title', 'Netflix', 'Hulu', 'Prime Video', 'Disney+']])\n"
   ]
  },
  {
   "cell_type": "markdown",
   "id": "d03af544",
   "metadata": {},
   "source": [
    "Which platform has the most movies with an IMDb rating above 8.0?"
   ]
  },
  {
   "cell_type": "code",
   "execution_count": 118,
   "id": "3150b6ea",
   "metadata": {},
   "outputs": [
    {
     "name": "stdout",
     "output_type": "stream",
     "text": [
      "Netflix        129\n",
      "Hulu            23\n",
      "Prime Video    324\n",
      "Disney+         21\n",
      "dtype: int64\n",
      "Platform with most movies IMDb>8.0: Prime Video\n"
     ]
    }
   ],
   "source": [
    "# Filter movies with IMDb > 8.0\n",
    "high_imdb = df[df['IMDb'] > 8.0]\n",
    "\n",
    "# Count per platform\n",
    "platform_high_imdb_counts = high_imdb[['Netflix','Hulu','Prime Video','Disney+']].sum()\n",
    "\n",
    "print(platform_high_imdb_counts)\n",
    "print(\"Platform with most movies IMDb>8.0:\", platform_high_imdb_counts.idxmax())\n"
   ]
  },
  {
   "cell_type": "markdown",
   "id": "799ed1bc",
   "metadata": {},
   "source": [
    "Which platform has the most movies released after 2015?"
   ]
  },
  {
   "cell_type": "code",
   "execution_count": 119,
   "id": "251f8032",
   "metadata": {},
   "outputs": [
    {
     "name": "stdout",
     "output_type": "stream",
     "text": [
      "Netflix        2105\n",
      "Hulu            454\n",
      "Prime Video    2321\n",
      "Disney+          87\n",
      "dtype: int64\n",
      "Platform with most movies released after 2015: Prime Video\n"
     ]
    }
   ],
   "source": [
    "# Filter movies released after 2015\n",
    "movies_post_2015 = df[df['Year'] > 2015]\n",
    "\n",
    "# Count per platform\n",
    "platform_post2015_counts = movies_post_2015[['Netflix','Hulu','Prime Video','Disney+']].sum()\n",
    "\n",
    "print(platform_post2015_counts)\n",
    "print(\"Platform with most movies released after 2015:\", platform_post2015_counts.idxmax())\n"
   ]
  },
  {
   "cell_type": "markdown",
   "id": "ef0b3520",
   "metadata": {},
   "source": [
    "What are the top 5 genres with the most movies?"
   ]
  },
  {
   "cell_type": "code",
   "execution_count": 120,
   "id": "81b5162a",
   "metadata": {},
   "outputs": [
    {
     "name": "stdout",
     "output_type": "stream",
     "text": [
      "Drama          7227\n",
      "Comedy         4637\n",
      "Thriller       3354\n",
      "Action         2683\n",
      "Documentary    2546\n",
      "Name: count, dtype: int64\n"
     ]
    }
   ],
   "source": [
    "# Split genres into separate rows and count\n",
    "genre_counts = df['Genres'].str.split(',', expand=True).stack().value_counts()\n",
    "\n",
    "# Top 5 genres\n",
    "top5_genres = genre_counts.head(5)\n",
    "print(top5_genres)\n"
   ]
  },
  {
   "cell_type": "markdown",
   "id": "7f9c088e",
   "metadata": {},
   "source": [
    "Which genre has the highest average IMDb rating?"
   ]
  },
  {
   "cell_type": "code",
   "execution_count": 121,
   "id": "77f14034",
   "metadata": {},
   "outputs": [
    {
     "name": "stdout",
     "output_type": "stream",
     "text": [
      "Genre with highest average IMDb rating: News\n",
      "Average IMDb rating: 7.063914342834766\n"
     ]
    }
   ],
   "source": [
    "# Split genres into separate rows\n",
    "df_genres = df.copy()\n",
    "df_genres = df_genres.assign(Genre=df_genres['Genres'].str.split(',')).explode('Genre')\n",
    "\n",
    "# Calculate average IMDb rating per genre\n",
    "genre_avg_imdb = df_genres.groupby('Genre')['IMDb'].mean().sort_values(ascending=False)\n",
    "\n",
    "# Genre with highest average IMDb\n",
    "highest_avg_genre = genre_avg_imdb.idxmax()\n",
    "highest_avg_rating = genre_avg_imdb.max()\n",
    "\n",
    "print(\"Genre with highest average IMDb rating:\", highest_avg_genre)\n",
    "print(\"Average IMDb rating:\", highest_avg_rating)\n"
   ]
  },
  {
   "cell_type": "markdown",
   "id": "654095fb",
   "metadata": {},
   "source": [
    "What is the most popular genre on Netflix?"
   ]
  },
  {
   "cell_type": "code",
   "execution_count": 122,
   "id": "9201093c",
   "metadata": {},
   "outputs": [
    {
     "name": "stdout",
     "output_type": "stream",
     "text": [
      "Most popular genre on Netflix: Drama\n",
      "Count: 1501\n"
     ]
    }
   ],
   "source": [
    "# Filter Netflix movies\n",
    "netflix_movies = df[df['Netflix'] == 1]\n",
    "\n",
    "# Split genres into separate rows\n",
    "netflix_genres = netflix_movies.assign(Genre=netflix_movies['Genres'].str.split(',')).explode('Genre')\n",
    "\n",
    "# Count genres and find the most popular\n",
    "most_popular_genre_netflix = netflix_genres['Genre'].value_counts().idxmax()\n",
    "count = netflix_genres['Genre'].value_counts().max()\n",
    "\n",
    "print(\"Most popular genre on Netflix:\", most_popular_genre_netflix)\n",
    "print(\"Count:\", count)\n"
   ]
  },
  {
   "cell_type": "markdown",
   "id": "1d4abd8f",
   "metadata": {},
   "source": [
    "How many movies in the Comedy genre have an IMDb rating above 7.5?"
   ]
  },
  {
   "cell_type": "code",
   "execution_count": 123,
   "id": "294f9742",
   "metadata": {},
   "outputs": [
    {
     "name": "stdout",
     "output_type": "stream",
     "text": [
      "Number of Comedy movies with IMDb > 7.5: 316\n"
     ]
    }
   ],
   "source": [
    "# Filter Comedy movies with IMDb > 7.5\n",
    "comedy_high_imdb = df[df['Genres'].str.contains('Comedy') & (df['IMDb'] > 7.5)]\n",
    "\n",
    "# Count\n",
    "num_comedy_high_imdb = len(comedy_high_imdb)\n",
    "\n",
    "print(\"Number of Comedy movies with IMDb > 7.5:\", num_comedy_high_imdb)\n"
   ]
  },
  {
   "cell_type": "markdown",
   "id": "9ff91510",
   "metadata": {},
   "source": [
    "What is the average IMDb rating for Horror movies?"
   ]
  },
  {
   "cell_type": "code",
   "execution_count": 124,
   "id": "703f34f0",
   "metadata": {},
   "outputs": [
    {
     "name": "stdout",
     "output_type": "stream",
     "text": [
      "Average IMDb rating for Horror movies: 4.73\n"
     ]
    }
   ],
   "source": [
    "# Filter Horror movies safely\n",
    "horror_movies = df[df['Genres'].str.contains('Horror', na=False)]\n",
    "\n",
    "# Average IMDb rating\n",
    "avg_imdb_horror = horror_movies['IMDb'].mean()\n",
    "\n",
    "print(\"Average IMDb rating for Horror movies:\", round(avg_imdb_horror, 2))\n"
   ]
  },
  {
   "cell_type": "markdown",
   "id": "b3e0709c",
   "metadata": {},
   "source": [
    "Who are the top 5 directors with the most movies in the dataset?"
   ]
  },
  {
   "cell_type": "code",
   "execution_count": 125,
   "id": "2bdb3f1e",
   "metadata": {},
   "outputs": [
    {
     "name": "stdout",
     "output_type": "stream",
     "text": [
      "Director\n",
      "Jay Chapman         36\n",
      "Joseph Kane         31\n",
      "Cheh Chang          29\n",
      "Jim Wynorski        23\n",
      "William Beaudine    23\n",
      "Name: count, dtype: int64\n"
     ]
    }
   ],
   "source": [
    "# Split directors into separate rows\n",
    "directors_df = df.assign(Director=df['Directors'].str.split(',')).explode('Director')\n",
    "\n",
    "# Count movies per director\n",
    "top5_directors = directors_df['Director'].value_counts().head(5)\n",
    "\n",
    "print(top5_directors)\n"
   ]
  },
  {
   "cell_type": "markdown",
   "id": "b3ec659d",
   "metadata": {},
   "source": [
    "Which director has the highest average IMDb rating?"
   ]
  },
  {
   "cell_type": "code",
   "execution_count": 126,
   "id": "863202c7",
   "metadata": {},
   "outputs": [
    {
     "name": "stdout",
     "output_type": "stream",
     "text": [
      "Director with highest average IMDb rating: Danny Wu\n",
      "Average IMDb rating: 9.3\n"
     ]
    }
   ],
   "source": [
    "# Split directors into separate rows\n",
    "directors_df = df.assign(Director=df['Directors'].str.split(',')).explode('Director')\n",
    "\n",
    "# Calculate average IMDb rating per director\n",
    "director_avg_imdb = directors_df.groupby('Director')['IMDb'].mean().sort_values(ascending=False)\n",
    "\n",
    "# Director with highest average IMDb\n",
    "top_director = director_avg_imdb.idxmax()\n",
    "top_rating = director_avg_imdb.max()\n",
    "\n",
    "print(\"Director with highest average IMDb rating:\", top_director)\n",
    "print(\"Average IMDb rating:\", round(top_rating, 2))\n"
   ]
  },
  {
   "cell_type": "markdown",
   "id": "3119cbf2",
   "metadata": {},
   "source": [
    "Which director has made the most Action movies?"
   ]
  },
  {
   "cell_type": "code",
   "execution_count": 127,
   "id": "3759797c",
   "metadata": {},
   "outputs": [
    {
     "name": "stdout",
     "output_type": "stream",
     "text": [
      "Director with most Action movies: Cheh Chang\n",
      "Number of Action movies: 29\n"
     ]
    }
   ],
   "source": [
    "# Filter Action movies\n",
    "action_movies = df[df['Genres'].str.contains('Action', na=False)]\n",
    "\n",
    "# Split directors into separate rows\n",
    "action_directors = action_movies.assign(Director=action_movies['Directors'].str.split(',')).explode('Director')\n",
    "\n",
    "# Count movies per director\n",
    "top_action_director = action_directors['Director'].value_counts().idxmax()\n",
    "count = action_directors['Director'].value_counts().max()\n",
    "\n",
    "print(\"Director with most Action movies:\", top_action_director)\n",
    "print(\"Number of Action movies:\", count)\n"
   ]
  },
  {
   "cell_type": "markdown",
   "id": "0bc01fc8",
   "metadata": {},
   "source": [
    "What is the average IMDb rating of movies directed by Christopher Nolan?"
   ]
  },
  {
   "cell_type": "code",
   "execution_count": 128,
   "id": "24450053",
   "metadata": {},
   "outputs": [
    {
     "name": "stdout",
     "output_type": "stream",
     "text": [
      "Average IMDb rating of Christopher Nolan movies: 8.3\n"
     ]
    }
   ],
   "source": [
    "# Filter Christopher Nolan movies\n",
    "nolan_movies = df[df['Directors'].str.contains('Christopher Nolan', na=False)]\n",
    "\n",
    "# Average IMDb rating\n",
    "avg_imdb_nolan = nolan_movies['IMDb'].mean()\n",
    "\n",
    "print(\"Average IMDb rating of Christopher Nolan movies:\", round(avg_imdb_nolan, 2))\n"
   ]
  },
  {
   "cell_type": "markdown",
   "id": "fc52fab4",
   "metadata": {},
   "source": [
    "How many movies by Steven Spielberg are available on Prime Video?"
   ]
  },
  {
   "cell_type": "code",
   "execution_count": 129,
   "id": "c07fe369",
   "metadata": {},
   "outputs": [
    {
     "name": "stdout",
     "output_type": "stream",
     "text": [
      "Number of Steven Spielberg movies on Prime Video: 1\n"
     ]
    }
   ],
   "source": [
    "# Filter Steven Spielberg movies\n",
    "spielberg_movies = df[df['Directors'].str.contains('Steven Spielberg', na=False)]\n",
    "\n",
    "# Filter movies available on Prime Video\n",
    "prime_spielberg = spielberg_movies[spielberg_movies['Prime Video'] == 1]\n",
    "\n",
    "# Count\n",
    "num_prime_spielberg = len(prime_spielberg)\n",
    "\n",
    "print(\"Number of Steven Spielberg movies on Prime Video:\", num_prime_spielberg)\n"
   ]
  },
  {
   "cell_type": "markdown",
   "id": "c0d3e558",
   "metadata": {},
   "source": [
    "What are the top 5 most common languages in the dataset?"
   ]
  },
  {
   "cell_type": "code",
   "execution_count": 130,
   "id": "96d18f0d",
   "metadata": {},
   "outputs": [
    {
     "name": "stdout",
     "output_type": "stream",
     "text": [
      "Language\n",
      "English    13233\n",
      "Spanish      872\n",
      "French       799\n",
      "Hindi        731\n",
      "German       483\n",
      "Name: count, dtype: int64\n"
     ]
    }
   ],
   "source": [
    "# Split languages into separate rows\n",
    "languages_df = df.assign(Language=df['Language'].str.split(',')).explode('Language')\n",
    "\n",
    "# Count movies per language\n",
    "top5_languages = languages_df['Language'].value_counts().head(5)\n",
    "\n",
    "print(top5_languages)\n"
   ]
  },
  {
   "cell_type": "markdown",
   "id": "6c5dd8ac",
   "metadata": {},
   "source": [
    "What is the average IMDb rating of French movies?"
   ]
  },
  {
   "cell_type": "code",
   "execution_count": 131,
   "id": "f7bf64d3",
   "metadata": {},
   "outputs": [
    {
     "name": "stdout",
     "output_type": "stream",
     "text": [
      "Average IMDb rating of French movies: 6.36\n"
     ]
    }
   ],
   "source": [
    "# Filter French movies\n",
    "french_movies = df[df['Language'].str.contains('French', na=False)]\n",
    "\n",
    "# Average IMDb rating\n",
    "avg_imdb_french = french_movies['IMDb'].mean()\n",
    "\n",
    "print(\"Average IMDb rating of French movies:\", round(avg_imdb_french, 2))\n"
   ]
  },
  {
   "cell_type": "markdown",
   "id": "be2ae3aa",
   "metadata": {},
   "source": [
    "How many movies are from the United States?"
   ]
  },
  {
   "cell_type": "code",
   "execution_count": 132,
   "id": "f5c32127",
   "metadata": {},
   "outputs": [
    {
     "name": "stdout",
     "output_type": "stream",
     "text": [
      "Number of movies from the United States: 10486\n"
     ]
    }
   ],
   "source": [
    "# Filter movies from the United States\n",
    "us_movies = df[df['Country'].str.contains('United States', na=False)]\n",
    "\n",
    "# Count\n",
    "num_us_movies = len(us_movies)\n",
    "\n",
    "print(\"Number of movies from the United States:\", num_us_movies)\n"
   ]
  },
  {
   "cell_type": "markdown",
   "id": "e197d008",
   "metadata": {},
   "source": [
    "Which country has produced the most Drama movies?"
   ]
  },
  {
   "cell_type": "code",
   "execution_count": 133,
   "id": "863d02ae",
   "metadata": {},
   "outputs": [
    {
     "name": "stdout",
     "output_type": "stream",
     "text": [
      "Country with most Drama movies: United States\n"
     ]
    }
   ],
   "source": [
    "top_drama_country = df.loc[df['Genres'].str.contains('Drama', na=False), 'Country'].value_counts().idxmax()\n",
    "print(\"Country with most Drama movies:\", top_drama_country)"
   ]
  },
  {
   "cell_type": "markdown",
   "id": "1ec5f833",
   "metadata": {},
   "source": [
    "What is the most common language for movies on Hulu?"
   ]
  },
  {
   "cell_type": "code",
   "execution_count": 134,
   "id": "7b143a4a",
   "metadata": {},
   "outputs": [
    {
     "name": "stdout",
     "output_type": "stream",
     "text": [
      "Most common language for movies on Hulu: English\n"
     ]
    }
   ],
   "source": [
    "top_hulu_language = df.loc[df['Hulu'] == 1, 'Language'].str.split(',').explode().value_counts().idxmax()\n",
    "print(\"Most common language for movies on Hulu:\", top_hulu_language)\n"
   ]
  },
  {
   "cell_type": "markdown",
   "id": "bd0ae572",
   "metadata": {},
   "source": [
    "# IMDb and Rotten Tomatoes Score Analysis"
   ]
  },
  {
   "cell_type": "markdown",
   "id": "8520cf77",
   "metadata": {},
   "source": [
    "What is the highest IMDb rating in the dataset, and which movie has it?"
   ]
  },
  {
   "cell_type": "code",
   "execution_count": 135,
   "id": "ffb4de9b",
   "metadata": {},
   "outputs": [
    {
     "name": "stdout",
     "output_type": "stream",
     "text": [
      "Highest IMDb rating: 9.3\n",
      "Movie(s) with highest IMDb rating: ['My Next Guest with David Letterman and Shah Rukh Khan', 'Love on a Leash', 'Square One', 'Steven Banks: Home Entertainment Center', 'Down, But Not Out!', 'Bounty']\n"
     ]
    }
   ],
   "source": [
    "# Highest IMDb rating\n",
    "max_imdb = df['IMDb'].max()\n",
    "\n",
    "# Movie(s) with highest IMDb\n",
    "movies_max_imdb = df.loc[df['IMDb'] == max_imdb, 'Title'].tolist()\n",
    "\n",
    "print(\"Highest IMDb rating:\", max_imdb)\n",
    "print(\"Movie(s) with highest IMDb rating:\", movies_max_imdb)\n"
   ]
  },
  {
   "cell_type": "markdown",
   "id": "d6a9d0d7",
   "metadata": {},
   "source": [
    "What is the lowest Rotten Tomatoes score, and which movie has it?"
   ]
  },
  {
   "cell_type": "code",
   "execution_count": 136,
   "id": "c3ba41d1",
   "metadata": {},
   "outputs": [
    {
     "name": "stdout",
     "output_type": "stream",
     "text": [
      "Lowest Rotten Tomatoes score: 0.2\n",
      "Movie(s) with lowest Rotten Tomatoes score: ['Getaway', 'Nina', 'Strange Wilderness', \"Kickin' It Old Skool\"]\n"
     ]
    }
   ],
   "source": [
    "# Lowest Rotten Tomatoes score\n",
    "min_rt = df['Rotten Tomatoes'].min()\n",
    "\n",
    "# Movie(s) with lowest Rotten Tomatoes score\n",
    "movies_min_rt = df.loc[df['Rotten Tomatoes'] == min_rt, 'Title'].tolist()\n",
    "\n",
    "print(\"Lowest Rotten Tomatoes score:\", min_rt)\n",
    "print(\"Movie(s) with lowest Rotten Tomatoes score:\", movies_min_rt)\n"
   ]
  },
  {
   "cell_type": "markdown",
   "id": "7f2f3ca4",
   "metadata": {},
   "source": [
    "What is the correlation between IMDb ratings and Rotten Tomatoes scores?"
   ]
  },
  {
   "cell_type": "code",
   "execution_count": 137,
   "id": "a257bb96",
   "metadata": {},
   "outputs": [
    {
     "name": "stdout",
     "output_type": "stream",
     "text": [
      "Correlation between IMDb and Rotten Tomatoes: 0.62\n"
     ]
    }
   ],
   "source": [
    "# Correlation between IMDb and Rotten Tomatoes\n",
    "correlation = df['IMDb'].corr(df['Rotten Tomatoes'])\n",
    "print(\"Correlation between IMDb and Rotten Tomatoes:\", round(correlation, 2))"
   ]
  },
  {
   "cell_type": "markdown",
   "id": "319aab3f",
   "metadata": {},
   "source": [
    "How many movies have both IMDb rating above 8.0 and Rotten Tomatoes score above 90%?"
   ]
  },
  {
   "cell_type": "code",
   "execution_count": 138,
   "id": "23346f8c",
   "metadata": {},
   "outputs": [
    {
     "name": "stdout",
     "output_type": "stream",
     "text": [
      "Number of movies with IMDb > 8.0 and Rotten Tomatoes > 90%: 0\n"
     ]
    }
   ],
   "source": [
    "high_rated_movies = df.loc[(df['IMDb'] > 8.0) & (df['Rotten Tomatoes'] > 90)]\n",
    "num_high_rated = len(high_rated_movies)\n",
    "\n",
    "print(\"Number of movies with IMDb > 8.0 and Rotten Tomatoes > 90%:\", num_high_rated)\n"
   ]
  },
  {
   "cell_type": "markdown",
   "id": "d9bb7030",
   "metadata": {},
   "source": [
    "Which platform has the highest average Rotten Tomatoes score?"
   ]
  },
  {
   "cell_type": "code",
   "execution_count": 139,
   "id": "69f36784",
   "metadata": {},
   "outputs": [
    {
     "name": "stdout",
     "output_type": "stream",
     "text": [
      "Platform with highest average Rotten Tomatoes score: Hulu\n",
      "Average Rotten Tomatoes score: 6.69\n"
     ]
    }
   ],
   "source": [
    "# Calculate average Rotten Tomatoes score per platform\n",
    "avg_rt_scores = {\n",
    "    'Netflix': df.loc[df['Netflix'] == 1, 'Rotten Tomatoes'].mean(),\n",
    "    'Hulu': df.loc[df['Hulu'] == 1, 'Rotten Tomatoes'].mean(),\n",
    "    'Prime Video': df.loc[df['Prime Video'] == 1, 'Rotten Tomatoes'].mean(),\n",
    "    'Disney+': df.loc[df['Disney+'] == 1, 'Rotten Tomatoes'].mean()\n",
    "}\n",
    "\n",
    "# Find platform with highest average\n",
    "top_platform = max(avg_rt_scores, key=avg_rt_scores.get)\n",
    "print(\"Platform with highest average Rotten Tomatoes score:\", top_platform)\n",
    "print(\"Average Rotten Tomatoes score:\", round(avg_rt_scores[top_platform], 2))\n"
   ]
  },
  {
   "cell_type": "markdown",
   "id": "5defee43",
   "metadata": {},
   "source": [
    "What is the average runtime of all movies?"
   ]
  },
  {
   "cell_type": "code",
   "execution_count": 140,
   "id": "ffa891a7",
   "metadata": {},
   "outputs": [
    {
     "name": "stdout",
     "output_type": "stream",
     "text": [
      "Average runtime of all movies: 93.4 minutes\n"
     ]
    }
   ],
   "source": [
    "# Average runtime\n",
    "avg_runtime = df['Runtime'].mean()\n",
    "print(\"Average runtime of all movies:\", round(avg_runtime, 2), \"minutes\")\n"
   ]
  },
  {
   "cell_type": "markdown",
   "id": "1663aca1",
   "metadata": {},
   "source": [
    "Which movie has the longest runtime?"
   ]
  },
  {
   "cell_type": "code",
   "execution_count": 141,
   "id": "7a065be0",
   "metadata": {},
   "outputs": [
    {
     "name": "stdout",
     "output_type": "stream",
     "text": [
      "Longest runtime: 1256 minutes\n",
      "Movie(s) with the longest runtime: ['Colorado']\n"
     ]
    }
   ],
   "source": [
    "# Longest runtime\n",
    "max_runtime = df['Runtime'].max()\n",
    "\n",
    "# Movie(s) with longest runtime\n",
    "longest_movies = df.loc[df['Runtime'] == max_runtime, 'Title'].tolist()\n",
    "\n",
    "print(\"Longest runtime:\", max_runtime, \"minutes\")\n",
    "print(\"Movie(s) with the longest runtime:\", longest_movies)\n"
   ]
  },
  {
   "cell_type": "markdown",
   "id": "080e5d7e",
   "metadata": {},
   "source": [
    "Which genre tends to have the longest runtime on average?"
   ]
  },
  {
   "cell_type": "code",
   "execution_count": 142,
   "id": "8ef4e0ca",
   "metadata": {},
   "outputs": [
    {
     "name": "stdout",
     "output_type": "stream",
     "text": [
      "Genre with longest average runtime: Musical\n",
      "Average runtime: 105.18 minutes\n"
     ]
    }
   ],
   "source": [
    "# Split and explode genres\n",
    "genre_runtime = df.assign(Genres=df['Genres'].str.split(',')).explode('Genres')\n",
    "\n",
    "# Average runtime per genre\n",
    "avg_runtime_per_genre = genre_runtime.groupby('Genres')['Runtime'].mean()\n",
    "\n",
    "# Genre with longest average runtime\n",
    "longest_genre = avg_runtime_per_genre.idxmax()\n",
    "longest_avg_runtime = avg_runtime_per_genre.max()\n",
    "\n",
    "print(\"Genre with longest average runtime:\", longest_genre)\n",
    "print(\"Average runtime:\", round(longest_avg_runtime, 2), \"minutes\")\n"
   ]
  },
  {
   "cell_type": "markdown",
   "id": "be5fd264",
   "metadata": {},
   "source": [
    "How many movies have a runtime of less than 60 minutes?"
   ]
  },
  {
   "cell_type": "code",
   "execution_count": 143,
   "id": "247139dd",
   "metadata": {},
   "outputs": [
    {
     "name": "stdout",
     "output_type": "stream",
     "text": [
      "Number of movies with runtime less than 60 minutes: 1219\n"
     ]
    }
   ],
   "source": [
    "short_movies_count = len(df.loc[df['Runtime'] < 60])\n",
    "print(\"Number of movies with runtime less than 60 minutes:\", short_movies_count)\n"
   ]
  },
  {
   "cell_type": "markdown",
   "id": "ab77bdfd",
   "metadata": {},
   "source": [
    "What is the average IMDb rating for movies with a runtime above 150 minutes?"
   ]
  },
  {
   "cell_type": "code",
   "execution_count": 144,
   "id": "9fec5ebc",
   "metadata": {},
   "outputs": [
    {
     "data": {
      "text/plain": [
       "np.float64(6.622602863917855)"
      ]
     },
     "execution_count": 144,
     "metadata": {},
     "output_type": "execute_result"
    }
   ],
   "source": [
    "# long_movies = df.loc[df['Runtime'] > 150, 'IMDb']\n",
    "# avg_imdb_long_movies = long_movies.mean()\n",
    "\n",
    "# print(\"Average IMDb rating for movies with runtime > 150 minutes:\", round(avg_imdb_long_movies, 2))\n",
    "\n",
    "df.loc[df['Runtime'] > 150, 'IMDb'].mean()"
   ]
  }
 ],
 "metadata": {
  "kernelspec": {
   "display_name": "Python 3",
   "language": "python",
   "name": "python3"
  },
  "language_info": {
   "codemirror_mode": {
    "name": "ipython",
    "version": 3
   },
   "file_extension": ".py",
   "mimetype": "text/x-python",
   "name": "python",
   "nbconvert_exporter": "python",
   "pygments_lexer": "ipython3",
   "version": "3.13.5"
  }
 },
 "nbformat": 4,
 "nbformat_minor": 5
}
