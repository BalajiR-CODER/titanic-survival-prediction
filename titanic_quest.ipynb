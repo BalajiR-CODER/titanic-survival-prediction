{
 "cells": [
  {
   "cell_type": "code",
   "execution_count": 2,
   "id": "682ca90a",
   "metadata": {},
   "outputs": [],
   "source": [
    "import seaborn as sns\n",
    "import pandas as pd\n",
    "import numpy as np\n",
    "import numpy.random as rnd\n",
    "import matplotlib.pyplot as plt"
   ]
  },
  {
   "cell_type": "code",
   "execution_count": 3,
   "id": "2977313d",
   "metadata": {},
   "outputs": [],
   "source": [
    "df=pd.read_csv('titanic.csv')"
   ]
  },
  {
   "cell_type": "code",
   "execution_count": 4,
   "id": "6fe79f84",
   "metadata": {},
   "outputs": [
    {
     "data": {
      "text/plain": [
       "Index(['pclass', 'name', 'sex', 'age', 'sibsp', 'parch', 'ticket', 'fare',\n",
       "       'cabin', 'embarked', 'survived'],\n",
       "      dtype='object')"
      ]
     },
     "execution_count": 4,
     "metadata": {},
     "output_type": "execute_result"
    }
   ],
   "source": [
    "df.columns"
   ]
  },
  {
   "cell_type": "code",
   "execution_count": 5,
   "id": "a0fa0eae",
   "metadata": {},
   "outputs": [
    {
     "name": "stdout",
     "output_type": "stream",
     "text": [
      "<class 'pandas.core.frame.DataFrame'>\n",
      "RangeIndex: 1309 entries, 0 to 1308\n",
      "Data columns (total 11 columns):\n",
      " #   Column    Non-Null Count  Dtype  \n",
      "---  ------    --------------  -----  \n",
      " 0   pclass    1309 non-null   int64  \n",
      " 1   name      1309 non-null   object \n",
      " 2   sex       1309 non-null   object \n",
      " 3   age       1046 non-null   float64\n",
      " 4   sibsp     1309 non-null   int64  \n",
      " 5   parch     1309 non-null   int64  \n",
      " 6   ticket    1309 non-null   object \n",
      " 7   fare      1308 non-null   float64\n",
      " 8   cabin     295 non-null    object \n",
      " 9   embarked  1307 non-null   object \n",
      " 10  survived  1309 non-null   int64  \n",
      "dtypes: float64(2), int64(4), object(5)\n",
      "memory usage: 112.6+ KB\n"
     ]
    }
   ],
   "source": [
    "df.info()"
   ]
  },
  {
   "cell_type": "code",
   "execution_count": 6,
   "id": "6de4e864",
   "metadata": {},
   "outputs": [
    {
     "data": {
      "text/plain": [
       "np.False_"
      ]
     },
     "execution_count": 6,
     "metadata": {},
     "output_type": "execute_result"
    }
   ],
   "source": [
    "df.duplicated().any()"
   ]
  },
  {
   "cell_type": "code",
   "execution_count": 7,
   "id": "7cf70f9a",
   "metadata": {},
   "outputs": [],
   "source": [
    "e=df['embarked'].mode()[0]\n",
    "df['embarked']=df['embarked'].fillna(e)"
   ]
  },
  {
   "cell_type": "code",
   "execution_count": 8,
   "id": "0ad50f41",
   "metadata": {},
   "outputs": [
    {
     "data": {
      "text/plain": [
       "<Axes: xlabel='fare'>"
      ]
     },
     "execution_count": 8,
     "metadata": {},
     "output_type": "execute_result"
    },
    {
     "data": {
      "image/png": "[encoded data removed]",
      "text/plain": [
       "<Figure size 400x300 with 2 Axes>"
      ]
     },
     "metadata": {},
     "output_type": "display_data"
    }
   ],
   "source": [
    "fig,axes=plt.subplots(1,2, figsize=(4,3))\n",
    "\n",
    "sns.boxplot(df,x='age',ax=axes[0])\n",
    "sns.boxplot(df,x='fare',ax=axes[1])"
   ]
  },
  {
   "cell_type": "code",
   "execution_count": 9,
   "id": "93a54e15",
   "metadata": {},
   "outputs": [],
   "source": [
    "a=df['age'].median()\n",
    "f=df['fare'].median()\n",
    "df['age']=df['age'].fillna(a)\n",
    "df['fare']=df['fare'].fillna(f)"
   ]
  },
  {
   "cell_type": "code",
   "execution_count": 10,
   "id": "3ba86dd6",
   "metadata": {},
   "outputs": [],
   "source": [
    "df=df.drop(columns=['cabin'])"
   ]
  },
  {
   "cell_type": "code",
   "execution_count": 11,
   "id": "5a0df5db",
   "metadata": {},
   "outputs": [],
   "source": [
    "for col in ['age', 'fare']:\n",
    "    df[col] = df[col].round(2)"
   ]
  },
  {
   "cell_type": "code",
   "execution_count": 12,
   "id": "2e68d9ed",
   "metadata": {},
   "outputs": [
    {
     "name": "stdout",
     "output_type": "stream",
     "text": [
      "<class 'pandas.core.frame.DataFrame'>\n",
      "RangeIndex: 1309 entries, 0 to 1308\n",
      "Data columns (total 10 columns):\n",
      " #   Column    Non-Null Count  Dtype  \n",
      "---  ------    --------------  -----  \n",
      " 0   pclass    1309 non-null   int64  \n",
      " 1   name      1309 non-null   object \n",
      " 2   sex       1309 non-null   object \n",
      " 3   age       1309 non-null   float64\n",
      " 4   sibsp     1309 non-null   int64  \n",
      " 5   parch     1309 non-null   int64  \n",
      " 6   ticket    1309 non-null   object \n",
      " 7   fare      1309 non-null   float64\n",
      " 8   embarked  1309 non-null   object \n",
      " 9   survived  1309 non-null   int64  \n",
      "dtypes: float64(2), int64(4), object(4)\n",
      "memory usage: 102.4+ KB\n"
     ]
    }
   ],
   "source": [
    "df.info()"
   ]
  },
  {
   "cell_type": "code",
   "execution_count": 13,
   "id": "971e8d20",
   "metadata": {},
   "outputs": [],
   "source": [
    "df['family_count']=df['sibsp'] + df['parch']"
   ]
  },
  {
   "cell_type": "code",
   "execution_count": 14,
   "id": "fb1b9e65",
   "metadata": {},
   "outputs": [
    {
     "data": {
      "text/plain": [
       "Index(['pclass', 'name', 'sex', 'age', 'sibsp', 'parch', 'ticket', 'fare',\n",
       "       'embarked', 'survived', 'family_count'],\n",
       "      dtype='object')"
      ]
     },
     "execution_count": 14,
     "metadata": {},
     "output_type": "execute_result"
    }
   ],
   "source": [
    "df.columns"
   ]
  },
  {
   "cell_type": "code",
   "execution_count": 15,
   "id": "e4ff080f",
   "metadata": {},
   "outputs": [],
   "source": [
    "df=df.drop(columns=['sibsp', 'parch'])"
   ]
  },
  {
   "cell_type": "code",
   "execution_count": 16,
   "id": "d69d9a73",
   "metadata": {},
   "outputs": [],
   "source": [
    "# for i in ['title','f_name','l_name']:\n",
    "#     df[i]=df[i].str.strip()"
   ]
  },
  {
   "cell_type": "code",
   "execution_count": 17,
   "id": "93ed9cb6",
   "metadata": {},
   "outputs": [],
   "source": [
    "# for i in ['title','f_name','l_name']:\n",
    "#     df[i]=df[i].str.strip()\n",
    "\n",
    "df[['l_name','temp']]=df['name'].str.split(',', expand=True)\n",
    "df[['title','f_name']]=df['temp'].str.split('.',n=1, expand=True)\n"
   ]
  },
  {
   "cell_type": "code",
   "execution_count": 18,
   "id": "1dbb7d6e",
   "metadata": {},
   "outputs": [
    {
     "data": {
      "text/html": [
       "<div>\n",
       "<style scoped>\n",
       "    .dataframe tbody tr th:only-of-type {\n",
       "        vertical-align: middle;\n",
       "    }\n",
       "\n",
       "    .dataframe tbody tr th {\n",
       "        vertical-align: top;\n",
       "    }\n",
       "\n",
       "    .dataframe thead th {\n",
       "        text-align: right;\n",
       "    }\n",
       "</style>\n",
       "<table border=\"1\" class=\"dataframe\">\n",
       "  <thead>\n",
       "    <tr style=\"text-align: right;\">\n",
       "      <th></th>\n",
       "      <th>pclass</th>\n",
       "      <th>name</th>\n",
       "      <th>sex</th>\n",
       "      <th>age</th>\n",
       "      <th>ticket</th>\n",
       "      <th>fare</th>\n",
       "      <th>embarked</th>\n",
       "      <th>survived</th>\n",
       "      <th>family_count</th>\n",
       "      <th>l_name</th>\n",
       "      <th>temp</th>\n",
       "      <th>title</th>\n",
       "      <th>f_name</th>\n",
       "    </tr>\n",
       "  </thead>\n",
       "  <tbody>\n",
       "    <tr>\n",
       "      <th>30</th>\n",
       "      <td>1</td>\n",
       "      <td>Blackwell, Mr. Stephen Weart</td>\n",
       "      <td>male</td>\n",
       "      <td>45.0</td>\n",
       "      <td>113784</td>\n",
       "      <td>35.50</td>\n",
       "      <td>S</td>\n",
       "      <td>0</td>\n",
       "      <td>0</td>\n",
       "      <td>Blackwell</td>\n",
       "      <td>Mr. Stephen Weart</td>\n",
       "      <td>Mr</td>\n",
       "      <td>Stephen Weart</td>\n",
       "    </tr>\n",
       "    <tr>\n",
       "      <th>31</th>\n",
       "      <td>1</td>\n",
       "      <td>Blank, Mr. Henry</td>\n",
       "      <td>male</td>\n",
       "      <td>40.0</td>\n",
       "      <td>112277</td>\n",
       "      <td>31.00</td>\n",
       "      <td>C</td>\n",
       "      <td>1</td>\n",
       "      <td>0</td>\n",
       "      <td>Blank</td>\n",
       "      <td>Mr. Henry</td>\n",
       "      <td>Mr</td>\n",
       "      <td>Henry</td>\n",
       "    </tr>\n",
       "    <tr>\n",
       "      <th>32</th>\n",
       "      <td>1</td>\n",
       "      <td>Bonnell, Miss. Caroline</td>\n",
       "      <td>female</td>\n",
       "      <td>30.0</td>\n",
       "      <td>36928</td>\n",
       "      <td>164.87</td>\n",
       "      <td>S</td>\n",
       "      <td>1</td>\n",
       "      <td>0</td>\n",
       "      <td>Bonnell</td>\n",
       "      <td>Miss. Caroline</td>\n",
       "      <td>Miss</td>\n",
       "      <td>Caroline</td>\n",
       "    </tr>\n",
       "    <tr>\n",
       "      <th>33</th>\n",
       "      <td>1</td>\n",
       "      <td>Bonnell, Miss. Elizabeth</td>\n",
       "      <td>female</td>\n",
       "      <td>58.0</td>\n",
       "      <td>113783</td>\n",
       "      <td>26.55</td>\n",
       "      <td>S</td>\n",
       "      <td>1</td>\n",
       "      <td>0</td>\n",
       "      <td>Bonnell</td>\n",
       "      <td>Miss. Elizabeth</td>\n",
       "      <td>Miss</td>\n",
       "      <td>Elizabeth</td>\n",
       "    </tr>\n",
       "    <tr>\n",
       "      <th>34</th>\n",
       "      <td>1</td>\n",
       "      <td>Borebank, Mr. John James</td>\n",
       "      <td>male</td>\n",
       "      <td>42.0</td>\n",
       "      <td>110489</td>\n",
       "      <td>26.55</td>\n",
       "      <td>S</td>\n",
       "      <td>0</td>\n",
       "      <td>0</td>\n",
       "      <td>Borebank</td>\n",
       "      <td>Mr. John James</td>\n",
       "      <td>Mr</td>\n",
       "      <td>John James</td>\n",
       "    </tr>\n",
       "    <tr>\n",
       "      <th>35</th>\n",
       "      <td>1</td>\n",
       "      <td>Bowen, Miss. Grace Scott</td>\n",
       "      <td>female</td>\n",
       "      <td>45.0</td>\n",
       "      <td>PC 17608</td>\n",
       "      <td>262.38</td>\n",
       "      <td>C</td>\n",
       "      <td>1</td>\n",
       "      <td>0</td>\n",
       "      <td>Bowen</td>\n",
       "      <td>Miss. Grace Scott</td>\n",
       "      <td>Miss</td>\n",
       "      <td>Grace Scott</td>\n",
       "    </tr>\n",
       "    <tr>\n",
       "      <th>36</th>\n",
       "      <td>1</td>\n",
       "      <td>Bowerman, Miss. Elsie Edith</td>\n",
       "      <td>female</td>\n",
       "      <td>22.0</td>\n",
       "      <td>113505</td>\n",
       "      <td>55.00</td>\n",
       "      <td>S</td>\n",
       "      <td>1</td>\n",
       "      <td>1</td>\n",
       "      <td>Bowerman</td>\n",
       "      <td>Miss. Elsie Edith</td>\n",
       "      <td>Miss</td>\n",
       "      <td>Elsie Edith</td>\n",
       "    </tr>\n",
       "    <tr>\n",
       "      <th>37</th>\n",
       "      <td>1</td>\n",
       "      <td>Bradley, Mr. George (\"George Arthur Brayton\")</td>\n",
       "      <td>male</td>\n",
       "      <td>28.0</td>\n",
       "      <td>111427</td>\n",
       "      <td>26.55</td>\n",
       "      <td>S</td>\n",
       "      <td>1</td>\n",
       "      <td>0</td>\n",
       "      <td>Bradley</td>\n",
       "      <td>Mr. George (\"George Arthur Brayton\")</td>\n",
       "      <td>Mr</td>\n",
       "      <td>George (\"George Arthur Brayton\")</td>\n",
       "    </tr>\n",
       "    <tr>\n",
       "      <th>38</th>\n",
       "      <td>1</td>\n",
       "      <td>Brady, Mr. John Bertram</td>\n",
       "      <td>male</td>\n",
       "      <td>41.0</td>\n",
       "      <td>113054</td>\n",
       "      <td>30.50</td>\n",
       "      <td>S</td>\n",
       "      <td>0</td>\n",
       "      <td>0</td>\n",
       "      <td>Brady</td>\n",
       "      <td>Mr. John Bertram</td>\n",
       "      <td>Mr</td>\n",
       "      <td>John Bertram</td>\n",
       "    </tr>\n",
       "    <tr>\n",
       "      <th>39</th>\n",
       "      <td>1</td>\n",
       "      <td>Brandeis, Mr. Emil</td>\n",
       "      <td>male</td>\n",
       "      <td>48.0</td>\n",
       "      <td>PC 17591</td>\n",
       "      <td>50.50</td>\n",
       "      <td>C</td>\n",
       "      <td>0</td>\n",
       "      <td>0</td>\n",
       "      <td>Brandeis</td>\n",
       "      <td>Mr. Emil</td>\n",
       "      <td>Mr</td>\n",
       "      <td>Emil</td>\n",
       "    </tr>\n",
       "    <tr>\n",
       "      <th>40</th>\n",
       "      <td>1</td>\n",
       "      <td>Brewe, Dr. Arthur Jackson</td>\n",
       "      <td>male</td>\n",
       "      <td>28.0</td>\n",
       "      <td>112379</td>\n",
       "      <td>39.60</td>\n",
       "      <td>C</td>\n",
       "      <td>0</td>\n",
       "      <td>0</td>\n",
       "      <td>Brewe</td>\n",
       "      <td>Dr. Arthur Jackson</td>\n",
       "      <td>Dr</td>\n",
       "      <td>Arthur Jackson</td>\n",
       "    </tr>\n",
       "    <tr>\n",
       "      <th>41</th>\n",
       "      <td>1</td>\n",
       "      <td>Brown, Mrs. James Joseph (Margaret Tobin)</td>\n",
       "      <td>female</td>\n",
       "      <td>44.0</td>\n",
       "      <td>PC 17610</td>\n",
       "      <td>27.72</td>\n",
       "      <td>C</td>\n",
       "      <td>1</td>\n",
       "      <td>0</td>\n",
       "      <td>Brown</td>\n",
       "      <td>Mrs. James Joseph (Margaret Tobin)</td>\n",
       "      <td>Mrs</td>\n",
       "      <td>James Joseph (Margaret Tobin)</td>\n",
       "    </tr>\n",
       "    <tr>\n",
       "      <th>42</th>\n",
       "      <td>1</td>\n",
       "      <td>Brown, Mrs. John Murray (Caroline Lane Lamson)</td>\n",
       "      <td>female</td>\n",
       "      <td>59.0</td>\n",
       "      <td>11769</td>\n",
       "      <td>51.48</td>\n",
       "      <td>S</td>\n",
       "      <td>1</td>\n",
       "      <td>2</td>\n",
       "      <td>Brown</td>\n",
       "      <td>Mrs. John Murray (Caroline Lane Lamson)</td>\n",
       "      <td>Mrs</td>\n",
       "      <td>John Murray (Caroline Lane Lamson)</td>\n",
       "    </tr>\n",
       "    <tr>\n",
       "      <th>43</th>\n",
       "      <td>1</td>\n",
       "      <td>Bucknell, Mrs. William Robert (Emma Eliza Ward)</td>\n",
       "      <td>female</td>\n",
       "      <td>60.0</td>\n",
       "      <td>11813</td>\n",
       "      <td>76.29</td>\n",
       "      <td>C</td>\n",
       "      <td>1</td>\n",
       "      <td>0</td>\n",
       "      <td>Bucknell</td>\n",
       "      <td>Mrs. William Robert (Emma Eliza Ward)</td>\n",
       "      <td>Mrs</td>\n",
       "      <td>William Robert (Emma Eliza Ward)</td>\n",
       "    </tr>\n",
       "    <tr>\n",
       "      <th>44</th>\n",
       "      <td>1</td>\n",
       "      <td>Burns, Miss. Elizabeth Margaret</td>\n",
       "      <td>female</td>\n",
       "      <td>41.0</td>\n",
       "      <td>16966</td>\n",
       "      <td>134.50</td>\n",
       "      <td>C</td>\n",
       "      <td>1</td>\n",
       "      <td>0</td>\n",
       "      <td>Burns</td>\n",
       "      <td>Miss. Elizabeth Margaret</td>\n",
       "      <td>Miss</td>\n",
       "      <td>Elizabeth Margaret</td>\n",
       "    </tr>\n",
       "    <tr>\n",
       "      <th>45</th>\n",
       "      <td>1</td>\n",
       "      <td>Butt, Major. Archibald Willingham</td>\n",
       "      <td>male</td>\n",
       "      <td>45.0</td>\n",
       "      <td>113050</td>\n",
       "      <td>26.55</td>\n",
       "      <td>S</td>\n",
       "      <td>0</td>\n",
       "      <td>0</td>\n",
       "      <td>Butt</td>\n",
       "      <td>Major. Archibald Willingham</td>\n",
       "      <td>Major</td>\n",
       "      <td>Archibald Willingham</td>\n",
       "    </tr>\n",
       "  </tbody>\n",
       "</table>\n",
       "</div>"
      ],
      "text/plain": [
       "    pclass                                             name     sex   age  \\\n",
       "30       1                     Blackwell, Mr. Stephen Weart    male  45.0   \n",
       "31       1                                 Blank, Mr. Henry    male  40.0   \n",
       "32       1                          Bonnell, Miss. Caroline  female  30.0   \n",
       "33       1                         Bonnell, Miss. Elizabeth  female  58.0   \n",
       "34       1                         Borebank, Mr. John James    male  42.0   \n",
       "35       1                         Bowen, Miss. Grace Scott  female  45.0   \n",
       "36       1                      Bowerman, Miss. Elsie Edith  female  22.0   \n",
       "37       1    Bradley, Mr. George (\"George Arthur Brayton\")    male  28.0   \n",
       "38       1                          Brady, Mr. John Bertram    male  41.0   \n",
       "39       1                               Brandeis, Mr. Emil    male  48.0   \n",
       "40       1                        Brewe, Dr. Arthur Jackson    male  28.0   \n",
       "41       1        Brown, Mrs. James Joseph (Margaret Tobin)  female  44.0   \n",
       "42       1   Brown, Mrs. John Murray (Caroline Lane Lamson)  female  59.0   \n",
       "43       1  Bucknell, Mrs. William Robert (Emma Eliza Ward)  female  60.0   \n",
       "44       1                  Burns, Miss. Elizabeth Margaret  female  41.0   \n",
       "45       1                Butt, Major. Archibald Willingham    male  45.0   \n",
       "\n",
       "      ticket    fare embarked  survived  family_count     l_name  \\\n",
       "30    113784   35.50        S         0             0  Blackwell   \n",
       "31    112277   31.00        C         1             0      Blank   \n",
       "32     36928  164.87        S         1             0    Bonnell   \n",
       "33    113783   26.55        S         1             0    Bonnell   \n",
       "34    110489   26.55        S         0             0   Borebank   \n",
       "35  PC 17608  262.38        C         1             0      Bowen   \n",
       "36    113505   55.00        S         1             1   Bowerman   \n",
       "37    111427   26.55        S         1             0    Bradley   \n",
       "38    113054   30.50        S         0             0      Brady   \n",
       "39  PC 17591   50.50        C         0             0   Brandeis   \n",
       "40    112379   39.60        C         0             0      Brewe   \n",
       "41  PC 17610   27.72        C         1             0      Brown   \n",
       "42     11769   51.48        S         1             2      Brown   \n",
       "43     11813   76.29        C         1             0   Bucknell   \n",
       "44     16966  134.50        C         1             0      Burns   \n",
       "45    113050   26.55        S         0             0       Butt   \n",
       "\n",
       "                                        temp   title  \\\n",
       "30                         Mr. Stephen Weart      Mr   \n",
       "31                                 Mr. Henry      Mr   \n",
       "32                            Miss. Caroline    Miss   \n",
       "33                           Miss. Elizabeth    Miss   \n",
       "34                            Mr. John James      Mr   \n",
       "35                         Miss. Grace Scott    Miss   \n",
       "36                         Miss. Elsie Edith    Miss   \n",
       "37      Mr. George (\"George Arthur Brayton\")      Mr   \n",
       "38                          Mr. John Bertram      Mr   \n",
       "39                                  Mr. Emil      Mr   \n",
       "40                        Dr. Arthur Jackson      Dr   \n",
       "41        Mrs. James Joseph (Margaret Tobin)     Mrs   \n",
       "42   Mrs. John Murray (Caroline Lane Lamson)     Mrs   \n",
       "43     Mrs. William Robert (Emma Eliza Ward)     Mrs   \n",
       "44                  Miss. Elizabeth Margaret    Miss   \n",
       "45               Major. Archibald Willingham   Major   \n",
       "\n",
       "                                 f_name  \n",
       "30                        Stephen Weart  \n",
       "31                                Henry  \n",
       "32                             Caroline  \n",
       "33                            Elizabeth  \n",
       "34                           John James  \n",
       "35                          Grace Scott  \n",
       "36                          Elsie Edith  \n",
       "37     George (\"George Arthur Brayton\")  \n",
       "38                         John Bertram  \n",
       "39                                 Emil  \n",
       "40                       Arthur Jackson  \n",
       "41        James Joseph (Margaret Tobin)  \n",
       "42   John Murray (Caroline Lane Lamson)  \n",
       "43     William Robert (Emma Eliza Ward)  \n",
       "44                   Elizabeth Margaret  \n",
       "45                 Archibald Willingham  "
      ]
     },
     "execution_count": 18,
     "metadata": {},
     "output_type": "execute_result"
    }
   ],
   "source": [
    "df['f_name'].str.strip()\n",
    "df.loc[30:45:1]"
   ]
  },
  {
   "cell_type": "code",
   "execution_count": 19,
   "id": "7e351c05",
   "metadata": {},
   "outputs": [],
   "source": [
    "df=df.drop(columns=['name', 'temp'])"
   ]
  },
  {
   "cell_type": "code",
   "execution_count": 20,
   "id": "c6819603",
   "metadata": {},
   "outputs": [],
   "source": [
    "df=df.rename(columns={'sex':'gender'})"
   ]
  },
  {
   "cell_type": "code",
   "execution_count": 21,
   "id": "14a71b35",
   "metadata": {},
   "outputs": [
    {
     "data": {
      "text/html": [
       "<div>\n",
       "<style scoped>\n",
       "    .dataframe tbody tr th:only-of-type {\n",
       "        vertical-align: middle;\n",
       "    }\n",
       "\n",
       "    .dataframe tbody tr th {\n",
       "        vertical-align: top;\n",
       "    }\n",
       "\n",
       "    .dataframe thead th {\n",
       "        text-align: right;\n",
       "    }\n",
       "</style>\n",
       "<table border=\"1\" class=\"dataframe\">\n",
       "  <thead>\n",
       "    <tr style=\"text-align: right;\">\n",
       "      <th></th>\n",
       "      <th>pclass</th>\n",
       "      <th>gender</th>\n",
       "      <th>age</th>\n",
       "      <th>ticket</th>\n",
       "      <th>fare</th>\n",
       "      <th>embarked</th>\n",
       "      <th>survived</th>\n",
       "      <th>family_count</th>\n",
       "      <th>l_name</th>\n",
       "      <th>title</th>\n",
       "      <th>f_name</th>\n",
       "    </tr>\n",
       "  </thead>\n",
       "  <tbody>\n",
       "    <tr>\n",
       "      <th>0</th>\n",
       "      <td>1</td>\n",
       "      <td>female</td>\n",
       "      <td>29.00</td>\n",
       "      <td>24160</td>\n",
       "      <td>211.34</td>\n",
       "      <td>Southampton</td>\n",
       "      <td>1</td>\n",
       "      <td>0</td>\n",
       "      <td>Allen</td>\n",
       "      <td>Miss</td>\n",
       "      <td>Elisabeth Walton</td>\n",
       "    </tr>\n",
       "    <tr>\n",
       "      <th>1</th>\n",
       "      <td>1</td>\n",
       "      <td>male</td>\n",
       "      <td>0.92</td>\n",
       "      <td>113781</td>\n",
       "      <td>151.55</td>\n",
       "      <td>Southampton</td>\n",
       "      <td>1</td>\n",
       "      <td>3</td>\n",
       "      <td>Allison</td>\n",
       "      <td>Master</td>\n",
       "      <td>Hudson Trevor</td>\n",
       "    </tr>\n",
       "    <tr>\n",
       "      <th>2</th>\n",
       "      <td>1</td>\n",
       "      <td>female</td>\n",
       "      <td>2.00</td>\n",
       "      <td>113781</td>\n",
       "      <td>151.55</td>\n",
       "      <td>Southampton</td>\n",
       "      <td>0</td>\n",
       "      <td>3</td>\n",
       "      <td>Allison</td>\n",
       "      <td>Miss</td>\n",
       "      <td>Helen Loraine</td>\n",
       "    </tr>\n",
       "    <tr>\n",
       "      <th>3</th>\n",
       "      <td>1</td>\n",
       "      <td>male</td>\n",
       "      <td>30.00</td>\n",
       "      <td>113781</td>\n",
       "      <td>151.55</td>\n",
       "      <td>Southampton</td>\n",
       "      <td>0</td>\n",
       "      <td>3</td>\n",
       "      <td>Allison</td>\n",
       "      <td>Mr</td>\n",
       "      <td>Hudson Joshua Creighton</td>\n",
       "    </tr>\n",
       "    <tr>\n",
       "      <th>4</th>\n",
       "      <td>1</td>\n",
       "      <td>female</td>\n",
       "      <td>25.00</td>\n",
       "      <td>113781</td>\n",
       "      <td>151.55</td>\n",
       "      <td>Southampton</td>\n",
       "      <td>0</td>\n",
       "      <td>3</td>\n",
       "      <td>Allison</td>\n",
       "      <td>Mrs</td>\n",
       "      <td>Hudson J C (Bessie Waldo Daniels)</td>\n",
       "    </tr>\n",
       "    <tr>\n",
       "      <th>...</th>\n",
       "      <td>...</td>\n",
       "      <td>...</td>\n",
       "      <td>...</td>\n",
       "      <td>...</td>\n",
       "      <td>...</td>\n",
       "      <td>...</td>\n",
       "      <td>...</td>\n",
       "      <td>...</td>\n",
       "      <td>...</td>\n",
       "      <td>...</td>\n",
       "      <td>...</td>\n",
       "    </tr>\n",
       "    <tr>\n",
       "      <th>1304</th>\n",
       "      <td>3</td>\n",
       "      <td>female</td>\n",
       "      <td>14.50</td>\n",
       "      <td>2665</td>\n",
       "      <td>14.45</td>\n",
       "      <td>Cherbourg</td>\n",
       "      <td>0</td>\n",
       "      <td>1</td>\n",
       "      <td>Zabour</td>\n",
       "      <td>Miss</td>\n",
       "      <td>Hileni</td>\n",
       "    </tr>\n",
       "    <tr>\n",
       "      <th>1305</th>\n",
       "      <td>3</td>\n",
       "      <td>female</td>\n",
       "      <td>28.00</td>\n",
       "      <td>2665</td>\n",
       "      <td>14.45</td>\n",
       "      <td>Cherbourg</td>\n",
       "      <td>0</td>\n",
       "      <td>1</td>\n",
       "      <td>Zabour</td>\n",
       "      <td>Miss</td>\n",
       "      <td>Thamine</td>\n",
       "    </tr>\n",
       "    <tr>\n",
       "      <th>1306</th>\n",
       "      <td>3</td>\n",
       "      <td>male</td>\n",
       "      <td>26.50</td>\n",
       "      <td>2656</td>\n",
       "      <td>7.22</td>\n",
       "      <td>Cherbourg</td>\n",
       "      <td>0</td>\n",
       "      <td>0</td>\n",
       "      <td>Zakarian</td>\n",
       "      <td>Mr</td>\n",
       "      <td>Mapriededer</td>\n",
       "    </tr>\n",
       "    <tr>\n",
       "      <th>1307</th>\n",
       "      <td>3</td>\n",
       "      <td>male</td>\n",
       "      <td>27.00</td>\n",
       "      <td>2670</td>\n",
       "      <td>7.22</td>\n",
       "      <td>Cherbourg</td>\n",
       "      <td>0</td>\n",
       "      <td>0</td>\n",
       "      <td>Zakarian</td>\n",
       "      <td>Mr</td>\n",
       "      <td>Ortin</td>\n",
       "    </tr>\n",
       "    <tr>\n",
       "      <th>1308</th>\n",
       "      <td>3</td>\n",
       "      <td>male</td>\n",
       "      <td>29.00</td>\n",
       "      <td>315082</td>\n",
       "      <td>7.88</td>\n",
       "      <td>Southampton</td>\n",
       "      <td>0</td>\n",
       "      <td>0</td>\n",
       "      <td>Zimmerman</td>\n",
       "      <td>Mr</td>\n",
       "      <td>Leo</td>\n",
       "    </tr>\n",
       "  </tbody>\n",
       "</table>\n",
       "<p>1309 rows × 11 columns</p>\n",
       "</div>"
      ],
      "text/plain": [
       "      pclass  gender    age  ticket    fare     embarked  survived  \\\n",
       "0          1  female  29.00   24160  211.34  Southampton         1   \n",
       "1          1    male   0.92  113781  151.55  Southampton         1   \n",
       "2          1  female   2.00  113781  151.55  Southampton         0   \n",
       "3          1    male  30.00  113781  151.55  Southampton         0   \n",
       "4          1  female  25.00  113781  151.55  Southampton         0   \n",
       "...      ...     ...    ...     ...     ...          ...       ...   \n",
       "1304       3  female  14.50    2665   14.45    Cherbourg         0   \n",
       "1305       3  female  28.00    2665   14.45    Cherbourg         0   \n",
       "1306       3    male  26.50    2656    7.22    Cherbourg         0   \n",
       "1307       3    male  27.00    2670    7.22    Cherbourg         0   \n",
       "1308       3    male  29.00  315082    7.88  Southampton         0   \n",
       "\n",
       "      family_count     l_name    title                              f_name  \n",
       "0                0      Allen     Miss                    Elisabeth Walton  \n",
       "1                3    Allison   Master                       Hudson Trevor  \n",
       "2                3    Allison     Miss                       Helen Loraine  \n",
       "3                3    Allison       Mr             Hudson Joshua Creighton  \n",
       "4                3    Allison      Mrs   Hudson J C (Bessie Waldo Daniels)  \n",
       "...            ...        ...      ...                                 ...  \n",
       "1304             1     Zabour     Miss                              Hileni  \n",
       "1305             1     Zabour     Miss                             Thamine  \n",
       "1306             0   Zakarian       Mr                         Mapriededer  \n",
       "1307             0   Zakarian       Mr                               Ortin  \n",
       "1308             0  Zimmerman       Mr                                 Leo  \n",
       "\n",
       "[1309 rows x 11 columns]"
      ]
     },
     "execution_count": 21,
     "metadata": {},
     "output_type": "execute_result"
    }
   ],
   "source": [
    "df['embarked']=df['embarked'].map({'C': 'Cherbourg', 'Q': 'Queenstown', 'S': 'Southampton'})\n",
    "df"
   ]
  },
  {
   "cell_type": "code",
   "execution_count": 22,
   "id": "e510b060",
   "metadata": {},
   "outputs": [
    {
     "data": {
      "text/html": [
       "<div>\n",
       "<style scoped>\n",
       "    .dataframe tbody tr th:only-of-type {\n",
       "        vertical-align: middle;\n",
       "    }\n",
       "\n",
       "    .dataframe tbody tr th {\n",
       "        vertical-align: top;\n",
       "    }\n",
       "\n",
       "    .dataframe thead th {\n",
       "        text-align: right;\n",
       "    }\n",
       "</style>\n",
       "<table border=\"1\" class=\"dataframe\">\n",
       "  <thead>\n",
       "    <tr style=\"text-align: right;\">\n",
       "      <th></th>\n",
       "      <th>pclass</th>\n",
       "      <th>gender</th>\n",
       "      <th>age</th>\n",
       "      <th>ticket</th>\n",
       "      <th>fare</th>\n",
       "      <th>embarked</th>\n",
       "      <th>survived</th>\n",
       "      <th>family_count</th>\n",
       "      <th>l_name</th>\n",
       "      <th>title</th>\n",
       "      <th>f_name</th>\n",
       "      <th>companion_type</th>\n",
       "    </tr>\n",
       "  </thead>\n",
       "  <tbody>\n",
       "    <tr>\n",
       "      <th>0</th>\n",
       "      <td>1</td>\n",
       "      <td>female</td>\n",
       "      <td>29.00</td>\n",
       "      <td>24160</td>\n",
       "      <td>211.34</td>\n",
       "      <td>Southampton</td>\n",
       "      <td>1</td>\n",
       "      <td>0</td>\n",
       "      <td>Allen</td>\n",
       "      <td>Miss</td>\n",
       "      <td>Elisabeth Walton</td>\n",
       "      <td>friends</td>\n",
       "    </tr>\n",
       "    <tr>\n",
       "      <th>1</th>\n",
       "      <td>1</td>\n",
       "      <td>male</td>\n",
       "      <td>0.92</td>\n",
       "      <td>113781</td>\n",
       "      <td>151.55</td>\n",
       "      <td>Southampton</td>\n",
       "      <td>1</td>\n",
       "      <td>3</td>\n",
       "      <td>Allison</td>\n",
       "      <td>Master</td>\n",
       "      <td>Hudson Trevor</td>\n",
       "      <td>family</td>\n",
       "    </tr>\n",
       "    <tr>\n",
       "      <th>2</th>\n",
       "      <td>1</td>\n",
       "      <td>female</td>\n",
       "      <td>2.00</td>\n",
       "      <td>113781</td>\n",
       "      <td>151.55</td>\n",
       "      <td>Southampton</td>\n",
       "      <td>0</td>\n",
       "      <td>3</td>\n",
       "      <td>Allison</td>\n",
       "      <td>Miss</td>\n",
       "      <td>Helen Loraine</td>\n",
       "      <td>family</td>\n",
       "    </tr>\n",
       "    <tr>\n",
       "      <th>3</th>\n",
       "      <td>1</td>\n",
       "      <td>male</td>\n",
       "      <td>30.00</td>\n",
       "      <td>113781</td>\n",
       "      <td>151.55</td>\n",
       "      <td>Southampton</td>\n",
       "      <td>0</td>\n",
       "      <td>3</td>\n",
       "      <td>Allison</td>\n",
       "      <td>Mr</td>\n",
       "      <td>Hudson Joshua Creighton</td>\n",
       "      <td>family</td>\n",
       "    </tr>\n",
       "    <tr>\n",
       "      <th>4</th>\n",
       "      <td>1</td>\n",
       "      <td>female</td>\n",
       "      <td>25.00</td>\n",
       "      <td>113781</td>\n",
       "      <td>151.55</td>\n",
       "      <td>Southampton</td>\n",
       "      <td>0</td>\n",
       "      <td>3</td>\n",
       "      <td>Allison</td>\n",
       "      <td>Mrs</td>\n",
       "      <td>Hudson J C (Bessie Waldo Daniels)</td>\n",
       "      <td>family</td>\n",
       "    </tr>\n",
       "    <tr>\n",
       "      <th>...</th>\n",
       "      <td>...</td>\n",
       "      <td>...</td>\n",
       "      <td>...</td>\n",
       "      <td>...</td>\n",
       "      <td>...</td>\n",
       "      <td>...</td>\n",
       "      <td>...</td>\n",
       "      <td>...</td>\n",
       "      <td>...</td>\n",
       "      <td>...</td>\n",
       "      <td>...</td>\n",
       "      <td>...</td>\n",
       "    </tr>\n",
       "    <tr>\n",
       "      <th>1304</th>\n",
       "      <td>3</td>\n",
       "      <td>female</td>\n",
       "      <td>14.50</td>\n",
       "      <td>2665</td>\n",
       "      <td>14.45</td>\n",
       "      <td>Cherbourg</td>\n",
       "      <td>0</td>\n",
       "      <td>1</td>\n",
       "      <td>Zabour</td>\n",
       "      <td>Miss</td>\n",
       "      <td>Hileni</td>\n",
       "      <td>family</td>\n",
       "    </tr>\n",
       "    <tr>\n",
       "      <th>1305</th>\n",
       "      <td>3</td>\n",
       "      <td>female</td>\n",
       "      <td>28.00</td>\n",
       "      <td>2665</td>\n",
       "      <td>14.45</td>\n",
       "      <td>Cherbourg</td>\n",
       "      <td>0</td>\n",
       "      <td>1</td>\n",
       "      <td>Zabour</td>\n",
       "      <td>Miss</td>\n",
       "      <td>Thamine</td>\n",
       "      <td>family</td>\n",
       "    </tr>\n",
       "    <tr>\n",
       "      <th>1306</th>\n",
       "      <td>3</td>\n",
       "      <td>male</td>\n",
       "      <td>26.50</td>\n",
       "      <td>2656</td>\n",
       "      <td>7.22</td>\n",
       "      <td>Cherbourg</td>\n",
       "      <td>0</td>\n",
       "      <td>0</td>\n",
       "      <td>Zakarian</td>\n",
       "      <td>Mr</td>\n",
       "      <td>Mapriededer</td>\n",
       "      <td>solo</td>\n",
       "    </tr>\n",
       "    <tr>\n",
       "      <th>1307</th>\n",
       "      <td>3</td>\n",
       "      <td>male</td>\n",
       "      <td>27.00</td>\n",
       "      <td>2670</td>\n",
       "      <td>7.22</td>\n",
       "      <td>Cherbourg</td>\n",
       "      <td>0</td>\n",
       "      <td>0</td>\n",
       "      <td>Zakarian</td>\n",
       "      <td>Mr</td>\n",
       "      <td>Ortin</td>\n",
       "      <td>solo</td>\n",
       "    </tr>\n",
       "    <tr>\n",
       "      <th>1308</th>\n",
       "      <td>3</td>\n",
       "      <td>male</td>\n",
       "      <td>29.00</td>\n",
       "      <td>315082</td>\n",
       "      <td>7.88</td>\n",
       "      <td>Southampton</td>\n",
       "      <td>0</td>\n",
       "      <td>0</td>\n",
       "      <td>Zimmerman</td>\n",
       "      <td>Mr</td>\n",
       "      <td>Leo</td>\n",
       "      <td>solo</td>\n",
       "    </tr>\n",
       "  </tbody>\n",
       "</table>\n",
       "<p>1309 rows × 12 columns</p>\n",
       "</div>"
      ],
      "text/plain": [
       "      pclass  gender    age  ticket    fare     embarked  survived  \\\n",
       "0          1  female  29.00   24160  211.34  Southampton         1   \n",
       "1          1    male   0.92  113781  151.55  Southampton         1   \n",
       "2          1  female   2.00  113781  151.55  Southampton         0   \n",
       "3          1    male  30.00  113781  151.55  Southampton         0   \n",
       "4          1  female  25.00  113781  151.55  Southampton         0   \n",
       "...      ...     ...    ...     ...     ...          ...       ...   \n",
       "1304       3  female  14.50    2665   14.45    Cherbourg         0   \n",
       "1305       3  female  28.00    2665   14.45    Cherbourg         0   \n",
       "1306       3    male  26.50    2656    7.22    Cherbourg         0   \n",
       "1307       3    male  27.00    2670    7.22    Cherbourg         0   \n",
       "1308       3    male  29.00  315082    7.88  Southampton         0   \n",
       "\n",
       "      family_count     l_name    title                              f_name  \\\n",
       "0                0      Allen     Miss                    Elisabeth Walton   \n",
       "1                3    Allison   Master                       Hudson Trevor   \n",
       "2                3    Allison     Miss                       Helen Loraine   \n",
       "3                3    Allison       Mr             Hudson Joshua Creighton   \n",
       "4                3    Allison      Mrs   Hudson J C (Bessie Waldo Daniels)   \n",
       "...            ...        ...      ...                                 ...   \n",
       "1304             1     Zabour     Miss                              Hileni   \n",
       "1305             1     Zabour     Miss                             Thamine   \n",
       "1306             0   Zakarian       Mr                         Mapriededer   \n",
       "1307             0   Zakarian       Mr                               Ortin   \n",
       "1308             0  Zimmerman       Mr                                 Leo   \n",
       "\n",
       "     companion_type  \n",
       "0           friends  \n",
       "1            family  \n",
       "2            family  \n",
       "3            family  \n",
       "4            family  \n",
       "...             ...  \n",
       "1304         family  \n",
       "1305         family  \n",
       "1306           solo  \n",
       "1307           solo  \n",
       "1308           solo  \n",
       "\n",
       "[1309 rows x 12 columns]"
      ]
     },
     "execution_count": 22,
     "metadata": {},
     "output_type": "execute_result"
    }
   ],
   "source": [
    "g=df['ticket'].value_counts()\n",
    "g==1\n",
    "g[g==1]\n",
    "solo_tickets=g[g==1].index\n",
    "\n",
    "def f1(d):\n",
    "    if d['family_count']>0:\n",
    "        return 'family'\n",
    "    else:\n",
    "        if d['ticket']in(solo_tickets):\n",
    "            return 'solo'\n",
    "        else:\n",
    "            return 'friends'\n",
    "\n",
    "df['companion_type']=df.apply(f1,axis=1)\n",
    "\n",
    "df"
   ]
  },
  {
   "cell_type": "code",
   "execution_count": 23,
   "id": "02eb408f",
   "metadata": {},
   "outputs": [
    {
     "data": {
      "text/html": [
       "<div>\n",
       "<style scoped>\n",
       "    .dataframe tbody tr th:only-of-type {\n",
       "        vertical-align: middle;\n",
       "    }\n",
       "\n",
       "    .dataframe tbody tr th {\n",
       "        vertical-align: top;\n",
       "    }\n",
       "\n",
       "    .dataframe thead th {\n",
       "        text-align: right;\n",
       "    }\n",
       "</style>\n",
       "<table border=\"1\" class=\"dataframe\">\n",
       "  <thead>\n",
       "    <tr style=\"text-align: right;\">\n",
       "      <th></th>\n",
       "      <th>ticket</th>\n",
       "      <th>title</th>\n",
       "      <th>f_name</th>\n",
       "      <th>l_name</th>\n",
       "      <th>gender</th>\n",
       "      <th>age</th>\n",
       "      <th>companion_type</th>\n",
       "      <th>family_count</th>\n",
       "      <th>pclass</th>\n",
       "      <th>embarked</th>\n",
       "      <th>fare</th>\n",
       "      <th>survived</th>\n",
       "    </tr>\n",
       "  </thead>\n",
       "  <tbody>\n",
       "    <tr>\n",
       "      <th>0</th>\n",
       "      <td>24160</td>\n",
       "      <td>Miss</td>\n",
       "      <td>Elisabeth Walton</td>\n",
       "      <td>Allen</td>\n",
       "      <td>female</td>\n",
       "      <td>29.00</td>\n",
       "      <td>friends</td>\n",
       "      <td>0</td>\n",
       "      <td>1</td>\n",
       "      <td>Southampton</td>\n",
       "      <td>211.34</td>\n",
       "      <td>1</td>\n",
       "    </tr>\n",
       "    <tr>\n",
       "      <th>1</th>\n",
       "      <td>113781</td>\n",
       "      <td>Master</td>\n",
       "      <td>Hudson Trevor</td>\n",
       "      <td>Allison</td>\n",
       "      <td>male</td>\n",
       "      <td>0.92</td>\n",
       "      <td>family</td>\n",
       "      <td>3</td>\n",
       "      <td>1</td>\n",
       "      <td>Southampton</td>\n",
       "      <td>151.55</td>\n",
       "      <td>1</td>\n",
       "    </tr>\n",
       "    <tr>\n",
       "      <th>2</th>\n",
       "      <td>113781</td>\n",
       "      <td>Miss</td>\n",
       "      <td>Helen Loraine</td>\n",
       "      <td>Allison</td>\n",
       "      <td>female</td>\n",
       "      <td>2.00</td>\n",
       "      <td>family</td>\n",
       "      <td>3</td>\n",
       "      <td>1</td>\n",
       "      <td>Southampton</td>\n",
       "      <td>151.55</td>\n",
       "      <td>0</td>\n",
       "    </tr>\n",
       "    <tr>\n",
       "      <th>3</th>\n",
       "      <td>113781</td>\n",
       "      <td>Mr</td>\n",
       "      <td>Hudson Joshua Creighton</td>\n",
       "      <td>Allison</td>\n",
       "      <td>male</td>\n",
       "      <td>30.00</td>\n",
       "      <td>family</td>\n",
       "      <td>3</td>\n",
       "      <td>1</td>\n",
       "      <td>Southampton</td>\n",
       "      <td>151.55</td>\n",
       "      <td>0</td>\n",
       "    </tr>\n",
       "    <tr>\n",
       "      <th>4</th>\n",
       "      <td>113781</td>\n",
       "      <td>Mrs</td>\n",
       "      <td>Hudson J C (Bessie Waldo Daniels)</td>\n",
       "      <td>Allison</td>\n",
       "      <td>female</td>\n",
       "      <td>25.00</td>\n",
       "      <td>family</td>\n",
       "      <td>3</td>\n",
       "      <td>1</td>\n",
       "      <td>Southampton</td>\n",
       "      <td>151.55</td>\n",
       "      <td>0</td>\n",
       "    </tr>\n",
       "    <tr>\n",
       "      <th>...</th>\n",
       "      <td>...</td>\n",
       "      <td>...</td>\n",
       "      <td>...</td>\n",
       "      <td>...</td>\n",
       "      <td>...</td>\n",
       "      <td>...</td>\n",
       "      <td>...</td>\n",
       "      <td>...</td>\n",
       "      <td>...</td>\n",
       "      <td>...</td>\n",
       "      <td>...</td>\n",
       "      <td>...</td>\n",
       "    </tr>\n",
       "    <tr>\n",
       "      <th>1304</th>\n",
       "      <td>2665</td>\n",
       "      <td>Miss</td>\n",
       "      <td>Hileni</td>\n",
       "      <td>Zabour</td>\n",
       "      <td>female</td>\n",
       "      <td>14.50</td>\n",
       "      <td>family</td>\n",
       "      <td>1</td>\n",
       "      <td>3</td>\n",
       "      <td>Cherbourg</td>\n",
       "      <td>14.45</td>\n",
       "      <td>0</td>\n",
       "    </tr>\n",
       "    <tr>\n",
       "      <th>1305</th>\n",
       "      <td>2665</td>\n",
       "      <td>Miss</td>\n",
       "      <td>Thamine</td>\n",
       "      <td>Zabour</td>\n",
       "      <td>female</td>\n",
       "      <td>28.00</td>\n",
       "      <td>family</td>\n",
       "      <td>1</td>\n",
       "      <td>3</td>\n",
       "      <td>Cherbourg</td>\n",
       "      <td>14.45</td>\n",
       "      <td>0</td>\n",
       "    </tr>\n",
       "    <tr>\n",
       "      <th>1306</th>\n",
       "      <td>2656</td>\n",
       "      <td>Mr</td>\n",
       "      <td>Mapriededer</td>\n",
       "      <td>Zakarian</td>\n",
       "      <td>male</td>\n",
       "      <td>26.50</td>\n",
       "      <td>solo</td>\n",
       "      <td>0</td>\n",
       "      <td>3</td>\n",
       "      <td>Cherbourg</td>\n",
       "      <td>7.22</td>\n",
       "      <td>0</td>\n",
       "    </tr>\n",
       "    <tr>\n",
       "      <th>1307</th>\n",
       "      <td>2670</td>\n",
       "      <td>Mr</td>\n",
       "      <td>Ortin</td>\n",
       "      <td>Zakarian</td>\n",
       "      <td>male</td>\n",
       "      <td>27.00</td>\n",
       "      <td>solo</td>\n",
       "      <td>0</td>\n",
       "      <td>3</td>\n",
       "      <td>Cherbourg</td>\n",
       "      <td>7.22</td>\n",
       "      <td>0</td>\n",
       "    </tr>\n",
       "    <tr>\n",
       "      <th>1308</th>\n",
       "      <td>315082</td>\n",
       "      <td>Mr</td>\n",
       "      <td>Leo</td>\n",
       "      <td>Zimmerman</td>\n",
       "      <td>male</td>\n",
       "      <td>29.00</td>\n",
       "      <td>solo</td>\n",
       "      <td>0</td>\n",
       "      <td>3</td>\n",
       "      <td>Southampton</td>\n",
       "      <td>7.88</td>\n",
       "      <td>0</td>\n",
       "    </tr>\n",
       "  </tbody>\n",
       "</table>\n",
       "<p>1309 rows × 12 columns</p>\n",
       "</div>"
      ],
      "text/plain": [
       "      ticket    title                              f_name     l_name  gender  \\\n",
       "0      24160     Miss                    Elisabeth Walton      Allen  female   \n",
       "1     113781   Master                       Hudson Trevor    Allison    male   \n",
       "2     113781     Miss                       Helen Loraine    Allison  female   \n",
       "3     113781       Mr             Hudson Joshua Creighton    Allison    male   \n",
       "4     113781      Mrs   Hudson J C (Bessie Waldo Daniels)    Allison  female   \n",
       "...      ...      ...                                 ...        ...     ...   \n",
       "1304    2665     Miss                              Hileni     Zabour  female   \n",
       "1305    2665     Miss                             Thamine     Zabour  female   \n",
       "1306    2656       Mr                         Mapriededer   Zakarian    male   \n",
       "1307    2670       Mr                               Ortin   Zakarian    male   \n",
       "1308  315082       Mr                                 Leo  Zimmerman    male   \n",
       "\n",
       "        age companion_type  family_count  pclass     embarked    fare  \\\n",
       "0     29.00        friends             0       1  Southampton  211.34   \n",
       "1      0.92         family             3       1  Southampton  151.55   \n",
       "2      2.00         family             3       1  Southampton  151.55   \n",
       "3     30.00         family             3       1  Southampton  151.55   \n",
       "4     25.00         family             3       1  Southampton  151.55   \n",
       "...     ...            ...           ...     ...          ...     ...   \n",
       "1304  14.50         family             1       3    Cherbourg   14.45   \n",
       "1305  28.00         family             1       3    Cherbourg   14.45   \n",
       "1306  26.50           solo             0       3    Cherbourg    7.22   \n",
       "1307  27.00           solo             0       3    Cherbourg    7.22   \n",
       "1308  29.00           solo             0       3  Southampton    7.88   \n",
       "\n",
       "      survived  \n",
       "0            1  \n",
       "1            1  \n",
       "2            0  \n",
       "3            0  \n",
       "4            0  \n",
       "...        ...  \n",
       "1304         0  \n",
       "1305         0  \n",
       "1306         0  \n",
       "1307         0  \n",
       "1308         0  \n",
       "\n",
       "[1309 rows x 12 columns]"
      ]
     },
     "execution_count": 23,
     "metadata": {},
     "output_type": "execute_result"
    }
   ],
   "source": [
    "lst=['ticket','title','f_name','l_name','gender', 'age','companion_type','family_count','pclass','embarked','fare','survived']\n",
    "df=df[lst]\n",
    "df"
   ]
  },
  {
   "cell_type": "code",
   "execution_count": 24,
   "id": "b1e5b82e",
   "metadata": {},
   "outputs": [
    {
     "data": {
      "text/html": [
       "<div>\n",
       "<style scoped>\n",
       "    .dataframe tbody tr th:only-of-type {\n",
       "        vertical-align: middle;\n",
       "    }\n",
       "\n",
       "    .dataframe tbody tr th {\n",
       "        vertical-align: top;\n",
       "    }\n",
       "\n",
       "    .dataframe thead th {\n",
       "        text-align: right;\n",
       "    }\n",
       "</style>\n",
       "<table border=\"1\" class=\"dataframe\">\n",
       "  <thead>\n",
       "    <tr style=\"text-align: right;\">\n",
       "      <th></th>\n",
       "      <th>ticket</th>\n",
       "      <th>title</th>\n",
       "      <th>f_name</th>\n",
       "      <th>l_name</th>\n",
       "      <th>gender</th>\n",
       "      <th>age</th>\n",
       "      <th>companion_type</th>\n",
       "      <th>family_count</th>\n",
       "      <th>pclass</th>\n",
       "      <th>embarked</th>\n",
       "      <th>fare</th>\n",
       "      <th>survived</th>\n",
       "    </tr>\n",
       "  </thead>\n",
       "  <tbody>\n",
       "    <tr>\n",
       "      <th>0</th>\n",
       "      <td>110152</td>\n",
       "      <td>Miss</td>\n",
       "      <td>Gladys</td>\n",
       "      <td>Cherry</td>\n",
       "      <td>female</td>\n",
       "      <td>30.0</td>\n",
       "      <td>friends</td>\n",
       "      <td>0</td>\n",
       "      <td>1</td>\n",
       "      <td>Southampton</td>\n",
       "      <td>86.50</td>\n",
       "      <td>1</td>\n",
       "    </tr>\n",
       "    <tr>\n",
       "      <th>1</th>\n",
       "      <td>110152</td>\n",
       "      <td>the Countess</td>\n",
       "      <td>of (Lucy Noel Martha Dyer-Edwards)</td>\n",
       "      <td>Rothes</td>\n",
       "      <td>female</td>\n",
       "      <td>33.0</td>\n",
       "      <td>friends</td>\n",
       "      <td>0</td>\n",
       "      <td>1</td>\n",
       "      <td>Southampton</td>\n",
       "      <td>86.50</td>\n",
       "      <td>1</td>\n",
       "    </tr>\n",
       "    <tr>\n",
       "      <th>2</th>\n",
       "      <td>110152</td>\n",
       "      <td>Miss</td>\n",
       "      <td>Roberta</td>\n",
       "      <td>Maioni</td>\n",
       "      <td>female</td>\n",
       "      <td>16.0</td>\n",
       "      <td>friends</td>\n",
       "      <td>0</td>\n",
       "      <td>1</td>\n",
       "      <td>Southampton</td>\n",
       "      <td>86.50</td>\n",
       "      <td>1</td>\n",
       "    </tr>\n",
       "    <tr>\n",
       "      <th>3</th>\n",
       "      <td>110413</td>\n",
       "      <td>Miss</td>\n",
       "      <td>Ruth</td>\n",
       "      <td>Taussig</td>\n",
       "      <td>female</td>\n",
       "      <td>18.0</td>\n",
       "      <td>family</td>\n",
       "      <td>2</td>\n",
       "      <td>1</td>\n",
       "      <td>Southampton</td>\n",
       "      <td>79.65</td>\n",
       "      <td>1</td>\n",
       "    </tr>\n",
       "    <tr>\n",
       "      <th>4</th>\n",
       "      <td>110413</td>\n",
       "      <td>Mrs</td>\n",
       "      <td>Emil (Tillie Mandelbaum)</td>\n",
       "      <td>Taussig</td>\n",
       "      <td>female</td>\n",
       "      <td>39.0</td>\n",
       "      <td>family</td>\n",
       "      <td>2</td>\n",
       "      <td>1</td>\n",
       "      <td>Southampton</td>\n",
       "      <td>79.65</td>\n",
       "      <td>1</td>\n",
       "    </tr>\n",
       "    <tr>\n",
       "      <th>...</th>\n",
       "      <td>...</td>\n",
       "      <td>...</td>\n",
       "      <td>...</td>\n",
       "      <td>...</td>\n",
       "      <td>...</td>\n",
       "      <td>...</td>\n",
       "      <td>...</td>\n",
       "      <td>...</td>\n",
       "      <td>...</td>\n",
       "      <td>...</td>\n",
       "      <td>...</td>\n",
       "      <td>...</td>\n",
       "    </tr>\n",
       "    <tr>\n",
       "      <th>1304</th>\n",
       "      <td>W.E.P. 5734</td>\n",
       "      <td>Mrs</td>\n",
       "      <td>Herbert Fuller (Carrie Constance Toogood)</td>\n",
       "      <td>Chaffee</td>\n",
       "      <td>female</td>\n",
       "      <td>47.0</td>\n",
       "      <td>family</td>\n",
       "      <td>1</td>\n",
       "      <td>1</td>\n",
       "      <td>Southampton</td>\n",
       "      <td>61.18</td>\n",
       "      <td>1</td>\n",
       "    </tr>\n",
       "    <tr>\n",
       "      <th>1305</th>\n",
       "      <td>W.E.P. 5734</td>\n",
       "      <td>Mr</td>\n",
       "      <td>Herbert Fuller</td>\n",
       "      <td>Chaffee</td>\n",
       "      <td>male</td>\n",
       "      <td>46.0</td>\n",
       "      <td>family</td>\n",
       "      <td>1</td>\n",
       "      <td>1</td>\n",
       "      <td>Southampton</td>\n",
       "      <td>61.18</td>\n",
       "      <td>0</td>\n",
       "    </tr>\n",
       "    <tr>\n",
       "      <th>1306</th>\n",
       "      <td>W/C 14208</td>\n",
       "      <td>Mr</td>\n",
       "      <td>Walter</td>\n",
       "      <td>Harris</td>\n",
       "      <td>male</td>\n",
       "      <td>30.0</td>\n",
       "      <td>solo</td>\n",
       "      <td>0</td>\n",
       "      <td>2</td>\n",
       "      <td>Southampton</td>\n",
       "      <td>10.50</td>\n",
       "      <td>0</td>\n",
       "    </tr>\n",
       "    <tr>\n",
       "      <th>1307</th>\n",
       "      <td>WE/P 5735</td>\n",
       "      <td>Capt</td>\n",
       "      <td>Edward Gifford</td>\n",
       "      <td>Crosby</td>\n",
       "      <td>male</td>\n",
       "      <td>70.0</td>\n",
       "      <td>family</td>\n",
       "      <td>2</td>\n",
       "      <td>1</td>\n",
       "      <td>Southampton</td>\n",
       "      <td>71.00</td>\n",
       "      <td>0</td>\n",
       "    </tr>\n",
       "    <tr>\n",
       "      <th>1308</th>\n",
       "      <td>WE/P 5735</td>\n",
       "      <td>Miss</td>\n",
       "      <td>Harriet R</td>\n",
       "      <td>Crosby</td>\n",
       "      <td>female</td>\n",
       "      <td>36.0</td>\n",
       "      <td>family</td>\n",
       "      <td>2</td>\n",
       "      <td>1</td>\n",
       "      <td>Southampton</td>\n",
       "      <td>71.00</td>\n",
       "      <td>1</td>\n",
       "    </tr>\n",
       "  </tbody>\n",
       "</table>\n",
       "<p>1309 rows × 12 columns</p>\n",
       "</div>"
      ],
      "text/plain": [
       "           ticket          title                                      f_name  \\\n",
       "0          110152           Miss                                      Gladys   \n",
       "1          110152   the Countess          of (Lucy Noel Martha Dyer-Edwards)   \n",
       "2          110152           Miss                                     Roberta   \n",
       "3          110413           Miss                                        Ruth   \n",
       "4          110413            Mrs                    Emil (Tillie Mandelbaum)   \n",
       "...           ...            ...                                         ...   \n",
       "1304  W.E.P. 5734            Mrs   Herbert Fuller (Carrie Constance Toogood)   \n",
       "1305  W.E.P. 5734             Mr                              Herbert Fuller   \n",
       "1306    W/C 14208             Mr                                      Walter   \n",
       "1307    WE/P 5735           Capt                              Edward Gifford   \n",
       "1308    WE/P 5735           Miss                                   Harriet R   \n",
       "\n",
       "       l_name  gender   age companion_type  family_count  pclass     embarked  \\\n",
       "0      Cherry  female  30.0        friends             0       1  Southampton   \n",
       "1      Rothes  female  33.0        friends             0       1  Southampton   \n",
       "2      Maioni  female  16.0        friends             0       1  Southampton   \n",
       "3     Taussig  female  18.0         family             2       1  Southampton   \n",
       "4     Taussig  female  39.0         family             2       1  Southampton   \n",
       "...       ...     ...   ...            ...           ...     ...          ...   \n",
       "1304  Chaffee  female  47.0         family             1       1  Southampton   \n",
       "1305  Chaffee    male  46.0         family             1       1  Southampton   \n",
       "1306   Harris    male  30.0           solo             0       2  Southampton   \n",
       "1307   Crosby    male  70.0         family             2       1  Southampton   \n",
       "1308   Crosby  female  36.0         family             2       1  Southampton   \n",
       "\n",
       "       fare  survived  \n",
       "0     86.50         1  \n",
       "1     86.50         1  \n",
       "2     86.50         1  \n",
       "3     79.65         1  \n",
       "4     79.65         1  \n",
       "...     ...       ...  \n",
       "1304  61.18         1  \n",
       "1305  61.18         0  \n",
       "1306  10.50         0  \n",
       "1307  71.00         0  \n",
       "1308  71.00         1  \n",
       "\n",
       "[1309 rows x 12 columns]"
      ]
     },
     "execution_count": 24,
     "metadata": {},
     "output_type": "execute_result"
    }
   ],
   "source": [
    "df=df.sort_values(by='ticket',ascending=True)\n",
    "df=df.reset_index(drop=True)\n",
    "df"
   ]
  },
  {
   "cell_type": "code",
   "execution_count": 25,
   "id": "9833f72e",
   "metadata": {},
   "outputs": [],
   "source": [
    "df['age_category'] = pd.cut(df['age'],bins=[0,15,25,60,81],labels=['children','teen','adult','senior'])"
   ]
  },
  {
   "cell_type": "markdown",
   "id": "35d035fd",
   "metadata": {},
   "source": [
    "# level-1"
   ]
  },
  {
   "cell_type": "markdown",
   "id": "57aa273c",
   "metadata": {},
   "source": [
    "1. get the unique values for (gender,pclass,age_category,companion_type,embarked)"
   ]
  },
  {
   "cell_type": "code",
   "execution_count": 26,
   "id": "874b2dce",
   "metadata": {},
   "outputs": [
    {
     "name": "stdout",
     "output_type": "stream",
     "text": [
      "['female' 'male']\n",
      "[1 2 3]\n",
      "['adult', 'teen', 'senior', 'children']\n",
      "Categories (4, object): ['children' < 'teen' < 'adult' < 'senior']\n",
      "['friends' 'family' 'solo']\n",
      "['Southampton' 'Cherbourg' 'Queenstown']\n"
     ]
    }
   ],
   "source": [
    "for col in ['gender','pclass','age_category','companion_type','embarked']:\n",
    "    print(df[col].unique())"
   ]
  },
  {
   "cell_type": "markdown",
   "id": "406badf2",
   "metadata": {},
   "source": [
    "2. (i)  get the passenger 'Emil' details\n",
    "   (ii) get the passenger 'Emil' gender,age,companion_type,survival_status"
   ]
  },
  {
   "cell_type": "code",
   "execution_count": 27,
   "id": "228adfe5",
   "metadata": {},
   "outputs": [
    {
     "data": {
      "text/html": [
       "<div>\n",
       "<style scoped>\n",
       "    .dataframe tbody tr th:only-of-type {\n",
       "        vertical-align: middle;\n",
       "    }\n",
       "\n",
       "    .dataframe tbody tr th {\n",
       "        vertical-align: top;\n",
       "    }\n",
       "\n",
       "    .dataframe thead th {\n",
       "        text-align: right;\n",
       "    }\n",
       "</style>\n",
       "<table border=\"1\" class=\"dataframe\">\n",
       "  <thead>\n",
       "    <tr style=\"text-align: right;\">\n",
       "      <th></th>\n",
       "      <th>ticket</th>\n",
       "      <th>title</th>\n",
       "      <th>f_name</th>\n",
       "      <th>l_name</th>\n",
       "      <th>gender</th>\n",
       "      <th>age</th>\n",
       "      <th>companion_type</th>\n",
       "      <th>family_count</th>\n",
       "      <th>pclass</th>\n",
       "      <th>embarked</th>\n",
       "      <th>fare</th>\n",
       "      <th>survived</th>\n",
       "      <th>age_category</th>\n",
       "    </tr>\n",
       "  </thead>\n",
       "  <tbody>\n",
       "  </tbody>\n",
       "</table>\n",
       "</div>"
      ],
      "text/plain": [
       "Empty DataFrame\n",
       "Columns: [ticket, title, f_name, l_name, gender, age, companion_type, family_count, pclass, embarked, fare, survived, age_category]\n",
       "Index: []"
      ]
     },
     "execution_count": 27,
     "metadata": {},
     "output_type": "execute_result"
    }
   ],
   "source": [
    "df.query(\"f_name=='Emil'\")"
   ]
  },
  {
   "cell_type": "markdown",
   "id": "03c859a7",
   "metadata": {},
   "source": [
    "3. get the 'Emil' family members"
   ]
  },
  {
   "cell_type": "code",
   "execution_count": null,
   "id": "f00032cc",
   "metadata": {},
   "outputs": [],
   "source": []
  },
  {
   "cell_type": "markdown",
   "id": "d3c8d65c",
   "metadata": {},
   "source": [
    "4. get the passenger details who got survived"
   ]
  },
  {
   "cell_type": "code",
   "execution_count": 28,
   "id": "74bf3f85",
   "metadata": {},
   "outputs": [
    {
     "data": {
      "text/html": [
       "<div>\n",
       "<style scoped>\n",
       "    .dataframe tbody tr th:only-of-type {\n",
       "        vertical-align: middle;\n",
       "    }\n",
       "\n",
       "    .dataframe tbody tr th {\n",
       "        vertical-align: top;\n",
       "    }\n",
       "\n",
       "    .dataframe thead th {\n",
       "        text-align: right;\n",
       "    }\n",
       "</style>\n",
       "<table border=\"1\" class=\"dataframe\">\n",
       "  <thead>\n",
       "    <tr style=\"text-align: right;\">\n",
       "      <th></th>\n",
       "      <th>ticket</th>\n",
       "      <th>title</th>\n",
       "      <th>f_name</th>\n",
       "      <th>l_name</th>\n",
       "      <th>gender</th>\n",
       "      <th>age</th>\n",
       "      <th>companion_type</th>\n",
       "      <th>family_count</th>\n",
       "      <th>pclass</th>\n",
       "      <th>embarked</th>\n",
       "      <th>fare</th>\n",
       "      <th>survived</th>\n",
       "      <th>age_category</th>\n",
       "    </tr>\n",
       "  </thead>\n",
       "  <tbody>\n",
       "    <tr>\n",
       "      <th>0</th>\n",
       "      <td>110152</td>\n",
       "      <td>Miss</td>\n",
       "      <td>Gladys</td>\n",
       "      <td>Cherry</td>\n",
       "      <td>female</td>\n",
       "      <td>30.0</td>\n",
       "      <td>friends</td>\n",
       "      <td>0</td>\n",
       "      <td>1</td>\n",
       "      <td>Southampton</td>\n",
       "      <td>86.50</td>\n",
       "      <td>1</td>\n",
       "      <td>adult</td>\n",
       "    </tr>\n",
       "    <tr>\n",
       "      <th>1</th>\n",
       "      <td>110152</td>\n",
       "      <td>the Countess</td>\n",
       "      <td>of (Lucy Noel Martha Dyer-Edwards)</td>\n",
       "      <td>Rothes</td>\n",
       "      <td>female</td>\n",
       "      <td>33.0</td>\n",
       "      <td>friends</td>\n",
       "      <td>0</td>\n",
       "      <td>1</td>\n",
       "      <td>Southampton</td>\n",
       "      <td>86.50</td>\n",
       "      <td>1</td>\n",
       "      <td>adult</td>\n",
       "    </tr>\n",
       "    <tr>\n",
       "      <th>2</th>\n",
       "      <td>110152</td>\n",
       "      <td>Miss</td>\n",
       "      <td>Roberta</td>\n",
       "      <td>Maioni</td>\n",
       "      <td>female</td>\n",
       "      <td>16.0</td>\n",
       "      <td>friends</td>\n",
       "      <td>0</td>\n",
       "      <td>1</td>\n",
       "      <td>Southampton</td>\n",
       "      <td>86.50</td>\n",
       "      <td>1</td>\n",
       "      <td>teen</td>\n",
       "    </tr>\n",
       "    <tr>\n",
       "      <th>3</th>\n",
       "      <td>110413</td>\n",
       "      <td>Miss</td>\n",
       "      <td>Ruth</td>\n",
       "      <td>Taussig</td>\n",
       "      <td>female</td>\n",
       "      <td>18.0</td>\n",
       "      <td>family</td>\n",
       "      <td>2</td>\n",
       "      <td>1</td>\n",
       "      <td>Southampton</td>\n",
       "      <td>79.65</td>\n",
       "      <td>1</td>\n",
       "      <td>teen</td>\n",
       "    </tr>\n",
       "    <tr>\n",
       "      <th>4</th>\n",
       "      <td>110413</td>\n",
       "      <td>Mrs</td>\n",
       "      <td>Emil (Tillie Mandelbaum)</td>\n",
       "      <td>Taussig</td>\n",
       "      <td>female</td>\n",
       "      <td>39.0</td>\n",
       "      <td>family</td>\n",
       "      <td>2</td>\n",
       "      <td>1</td>\n",
       "      <td>Southampton</td>\n",
       "      <td>79.65</td>\n",
       "      <td>1</td>\n",
       "      <td>adult</td>\n",
       "    </tr>\n",
       "    <tr>\n",
       "      <th>...</th>\n",
       "      <td>...</td>\n",
       "      <td>...</td>\n",
       "      <td>...</td>\n",
       "      <td>...</td>\n",
       "      <td>...</td>\n",
       "      <td>...</td>\n",
       "      <td>...</td>\n",
       "      <td>...</td>\n",
       "      <td>...</td>\n",
       "      <td>...</td>\n",
       "      <td>...</td>\n",
       "      <td>...</td>\n",
       "      <td>...</td>\n",
       "    </tr>\n",
       "    <tr>\n",
       "      <th>1290</th>\n",
       "      <td>W./C. 14258</td>\n",
       "      <td>Miss</td>\n",
       "      <td>Lucy</td>\n",
       "      <td>Ridsdale</td>\n",
       "      <td>female</td>\n",
       "      <td>50.0</td>\n",
       "      <td>solo</td>\n",
       "      <td>0</td>\n",
       "      <td>2</td>\n",
       "      <td>Southampton</td>\n",
       "      <td>10.50</td>\n",
       "      <td>1</td>\n",
       "      <td>adult</td>\n",
       "    </tr>\n",
       "    <tr>\n",
       "      <th>1291</th>\n",
       "      <td>W./C. 14260</td>\n",
       "      <td>Mr</td>\n",
       "      <td>Percy Thomas</td>\n",
       "      <td>Oxenham</td>\n",
       "      <td>male</td>\n",
       "      <td>22.0</td>\n",
       "      <td>solo</td>\n",
       "      <td>0</td>\n",
       "      <td>2</td>\n",
       "      <td>Southampton</td>\n",
       "      <td>10.50</td>\n",
       "      <td>1</td>\n",
       "      <td>teen</td>\n",
       "    </tr>\n",
       "    <tr>\n",
       "      <th>1293</th>\n",
       "      <td>W./C. 14266</td>\n",
       "      <td>Mrs</td>\n",
       "      <td>(Selena Rogers)</td>\n",
       "      <td>Cook</td>\n",
       "      <td>female</td>\n",
       "      <td>22.0</td>\n",
       "      <td>solo</td>\n",
       "      <td>0</td>\n",
       "      <td>2</td>\n",
       "      <td>Southampton</td>\n",
       "      <td>10.50</td>\n",
       "      <td>1</td>\n",
       "      <td>teen</td>\n",
       "    </tr>\n",
       "    <tr>\n",
       "      <th>1304</th>\n",
       "      <td>W.E.P. 5734</td>\n",
       "      <td>Mrs</td>\n",
       "      <td>Herbert Fuller (Carrie Constance Toogood)</td>\n",
       "      <td>Chaffee</td>\n",
       "      <td>female</td>\n",
       "      <td>47.0</td>\n",
       "      <td>family</td>\n",
       "      <td>1</td>\n",
       "      <td>1</td>\n",
       "      <td>Southampton</td>\n",
       "      <td>61.18</td>\n",
       "      <td>1</td>\n",
       "      <td>adult</td>\n",
       "    </tr>\n",
       "    <tr>\n",
       "      <th>1308</th>\n",
       "      <td>WE/P 5735</td>\n",
       "      <td>Miss</td>\n",
       "      <td>Harriet R</td>\n",
       "      <td>Crosby</td>\n",
       "      <td>female</td>\n",
       "      <td>36.0</td>\n",
       "      <td>family</td>\n",
       "      <td>2</td>\n",
       "      <td>1</td>\n",
       "      <td>Southampton</td>\n",
       "      <td>71.00</td>\n",
       "      <td>1</td>\n",
       "      <td>adult</td>\n",
       "    </tr>\n",
       "  </tbody>\n",
       "</table>\n",
       "<p>500 rows × 13 columns</p>\n",
       "</div>"
      ],
      "text/plain": [
       "           ticket          title                                      f_name  \\\n",
       "0          110152           Miss                                      Gladys   \n",
       "1          110152   the Countess          of (Lucy Noel Martha Dyer-Edwards)   \n",
       "2          110152           Miss                                     Roberta   \n",
       "3          110413           Miss                                        Ruth   \n",
       "4          110413            Mrs                    Emil (Tillie Mandelbaum)   \n",
       "...           ...            ...                                         ...   \n",
       "1290  W./C. 14258           Miss                                        Lucy   \n",
       "1291  W./C. 14260             Mr                                Percy Thomas   \n",
       "1293  W./C. 14266            Mrs                             (Selena Rogers)   \n",
       "1304  W.E.P. 5734            Mrs   Herbert Fuller (Carrie Constance Toogood)   \n",
       "1308    WE/P 5735           Miss                                   Harriet R   \n",
       "\n",
       "        l_name  gender   age companion_type  family_count  pclass  \\\n",
       "0       Cherry  female  30.0        friends             0       1   \n",
       "1       Rothes  female  33.0        friends             0       1   \n",
       "2       Maioni  female  16.0        friends             0       1   \n",
       "3      Taussig  female  18.0         family             2       1   \n",
       "4      Taussig  female  39.0         family             2       1   \n",
       "...        ...     ...   ...            ...           ...     ...   \n",
       "1290  Ridsdale  female  50.0           solo             0       2   \n",
       "1291   Oxenham    male  22.0           solo             0       2   \n",
       "1293      Cook  female  22.0           solo             0       2   \n",
       "1304   Chaffee  female  47.0         family             1       1   \n",
       "1308    Crosby  female  36.0         family             2       1   \n",
       "\n",
       "         embarked   fare  survived age_category  \n",
       "0     Southampton  86.50         1        adult  \n",
       "1     Southampton  86.50         1        adult  \n",
       "2     Southampton  86.50         1         teen  \n",
       "3     Southampton  79.65         1         teen  \n",
       "4     Southampton  79.65         1        adult  \n",
       "...           ...    ...       ...          ...  \n",
       "1290  Southampton  10.50         1        adult  \n",
       "1291  Southampton  10.50         1         teen  \n",
       "1293  Southampton  10.50         1         teen  \n",
       "1304  Southampton  61.18         1        adult  \n",
       "1308  Southampton  71.00         1        adult  \n",
       "\n",
       "[500 rows x 13 columns]"
      ]
     },
     "execution_count": 28,
     "metadata": {},
     "output_type": "execute_result"
    }
   ],
   "source": [
    "df.query(\"survived==1\")"
   ]
  },
  {
   "cell_type": "markdown",
   "id": "50319b00",
   "metadata": {},
   "source": [
    "5. get the passenger name,age_category,gender who din't get survive"
   ]
  },
  {
   "cell_type": "code",
   "execution_count": 29,
   "id": "fb067201",
   "metadata": {},
   "outputs": [
    {
     "data": {
      "text/html": [
       "<div>\n",
       "<style scoped>\n",
       "    .dataframe tbody tr th:only-of-type {\n",
       "        vertical-align: middle;\n",
       "    }\n",
       "\n",
       "    .dataframe tbody tr th {\n",
       "        vertical-align: top;\n",
       "    }\n",
       "\n",
       "    .dataframe thead th {\n",
       "        text-align: right;\n",
       "    }\n",
       "</style>\n",
       "<table border=\"1\" class=\"dataframe\">\n",
       "  <thead>\n",
       "    <tr style=\"text-align: right;\">\n",
       "      <th></th>\n",
       "      <th>f_name</th>\n",
       "      <th>l_name</th>\n",
       "      <th>age_category</th>\n",
       "      <th>gender</th>\n",
       "    </tr>\n",
       "  </thead>\n",
       "  <tbody>\n",
       "    <tr>\n",
       "      <th>5</th>\n",
       "      <td>Emil</td>\n",
       "      <td>Taussig</td>\n",
       "      <td>adult</td>\n",
       "      <td>male</td>\n",
       "    </tr>\n",
       "    <tr>\n",
       "      <th>6</th>\n",
       "      <td>Walter Chamberlain</td>\n",
       "      <td>Porter</td>\n",
       "      <td>adult</td>\n",
       "      <td>male</td>\n",
       "    </tr>\n",
       "    <tr>\n",
       "      <th>7</th>\n",
       "      <td>George Quincy</td>\n",
       "      <td>Clifford</td>\n",
       "      <td>adult</td>\n",
       "      <td>male</td>\n",
       "    </tr>\n",
       "    <tr>\n",
       "      <th>8</th>\n",
       "      <td>John Edward</td>\n",
       "      <td>Maguire</td>\n",
       "      <td>adult</td>\n",
       "      <td>male</td>\n",
       "    </tr>\n",
       "    <tr>\n",
       "      <th>9</th>\n",
       "      <td>John James</td>\n",
       "      <td>Borebank</td>\n",
       "      <td>adult</td>\n",
       "      <td>male</td>\n",
       "    </tr>\n",
       "    <tr>\n",
       "      <th>...</th>\n",
       "      <td>...</td>\n",
       "      <td>...</td>\n",
       "      <td>...</td>\n",
       "      <td>...</td>\n",
       "    </tr>\n",
       "    <tr>\n",
       "      <th>1302</th>\n",
       "      <td>Edward Watson</td>\n",
       "      <td>Ford</td>\n",
       "      <td>teen</td>\n",
       "      <td>male</td>\n",
       "    </tr>\n",
       "    <tr>\n",
       "      <th>1303</th>\n",
       "      <td>Alice Phoebe</td>\n",
       "      <td>Harknett</td>\n",
       "      <td>adult</td>\n",
       "      <td>female</td>\n",
       "    </tr>\n",
       "    <tr>\n",
       "      <th>1305</th>\n",
       "      <td>Herbert Fuller</td>\n",
       "      <td>Chaffee</td>\n",
       "      <td>adult</td>\n",
       "      <td>male</td>\n",
       "    </tr>\n",
       "    <tr>\n",
       "      <th>1306</th>\n",
       "      <td>Walter</td>\n",
       "      <td>Harris</td>\n",
       "      <td>adult</td>\n",
       "      <td>male</td>\n",
       "    </tr>\n",
       "    <tr>\n",
       "      <th>1307</th>\n",
       "      <td>Edward Gifford</td>\n",
       "      <td>Crosby</td>\n",
       "      <td>senior</td>\n",
       "      <td>male</td>\n",
       "    </tr>\n",
       "  </tbody>\n",
       "</table>\n",
       "<p>809 rows × 4 columns</p>\n",
       "</div>"
      ],
      "text/plain": [
       "                   f_name    l_name age_category  gender\n",
       "5                    Emil   Taussig        adult    male\n",
       "6      Walter Chamberlain    Porter        adult    male\n",
       "7           George Quincy  Clifford        adult    male\n",
       "8             John Edward   Maguire        adult    male\n",
       "9              John James  Borebank        adult    male\n",
       "...                   ...       ...          ...     ...\n",
       "1302        Edward Watson      Ford         teen    male\n",
       "1303         Alice Phoebe  Harknett        adult  female\n",
       "1305       Herbert Fuller   Chaffee        adult    male\n",
       "1306               Walter    Harris        adult    male\n",
       "1307       Edward Gifford    Crosby       senior    male\n",
       "\n",
       "[809 rows x 4 columns]"
      ]
     },
     "execution_count": 29,
     "metadata": {},
     "output_type": "execute_result"
    }
   ],
   "source": [
    "df.query(\"survived==0\") [['f_name','l_name','age_category','gender']]"
   ]
  },
  {
   "cell_type": "markdown",
   "id": "33e8c5ab",
   "metadata": {},
   "source": [
    "6. get the top 10 male passengers name in descending order of age\n"
   ]
  },
  {
   "cell_type": "code",
   "execution_count": 30,
   "id": "36374b6a",
   "metadata": {},
   "outputs": [
    {
     "data": {
      "text/html": [
       "<div>\n",
       "<style scoped>\n",
       "    .dataframe tbody tr th:only-of-type {\n",
       "        vertical-align: middle;\n",
       "    }\n",
       "\n",
       "    .dataframe tbody tr th {\n",
       "        vertical-align: top;\n",
       "    }\n",
       "\n",
       "    .dataframe thead th {\n",
       "        text-align: right;\n",
       "    }\n",
       "</style>\n",
       "<table border=\"1\" class=\"dataframe\">\n",
       "  <thead>\n",
       "    <tr style=\"text-align: right;\">\n",
       "      <th></th>\n",
       "      <th>gender</th>\n",
       "      <th>f_name</th>\n",
       "      <th>age</th>\n",
       "    </tr>\n",
       "  </thead>\n",
       "  <tbody>\n",
       "    <tr>\n",
       "      <th>444</th>\n",
       "      <td>male</td>\n",
       "      <td>Algernon Henry Wilson</td>\n",
       "      <td>80.0</td>\n",
       "    </tr>\n",
       "    <tr>\n",
       "      <th>617</th>\n",
       "      <td>male</td>\n",
       "      <td>Johan</td>\n",
       "      <td>74.0</td>\n",
       "    </tr>\n",
       "    <tr>\n",
       "      <th>1157</th>\n",
       "      <td>male</td>\n",
       "      <td>Ramon</td>\n",
       "      <td>71.0</td>\n",
       "    </tr>\n",
       "    <tr>\n",
       "      <th>1163</th>\n",
       "      <td>male</td>\n",
       "      <td>George B</td>\n",
       "      <td>71.0</td>\n",
       "    </tr>\n",
       "    <tr>\n",
       "      <th>867</th>\n",
       "      <td>male</td>\n",
       "      <td>Patrick</td>\n",
       "      <td>70.5</td>\n",
       "    </tr>\n",
       "    <tr>\n",
       "      <th>1307</th>\n",
       "      <td>male</td>\n",
       "      <td>Edward Gifford</td>\n",
       "      <td>70.0</td>\n",
       "    </tr>\n",
       "    <tr>\n",
       "      <th>1015</th>\n",
       "      <td>male</td>\n",
       "      <td>Henry Michael</td>\n",
       "      <td>70.0</td>\n",
       "    </tr>\n",
       "    <tr>\n",
       "      <th>1105</th>\n",
       "      <td>male</td>\n",
       "      <td>Isidor</td>\n",
       "      <td>67.0</td>\n",
       "    </tr>\n",
       "    <tr>\n",
       "      <th>1014</th>\n",
       "      <td>male</td>\n",
       "      <td>Edward H</td>\n",
       "      <td>66.0</td>\n",
       "    </tr>\n",
       "    <tr>\n",
       "      <th>573</th>\n",
       "      <td>male</td>\n",
       "      <td>Frank</td>\n",
       "      <td>65.0</td>\n",
       "    </tr>\n",
       "  </tbody>\n",
       "</table>\n",
       "</div>"
      ],
      "text/plain": [
       "     gender                  f_name   age\n",
       "444    male   Algernon Henry Wilson  80.0\n",
       "617    male                   Johan  74.0\n",
       "1157   male                   Ramon  71.0\n",
       "1163   male                George B  71.0\n",
       "867    male                 Patrick  70.5\n",
       "1307   male          Edward Gifford  70.0\n",
       "1015   male           Henry Michael  70.0\n",
       "1105   male                  Isidor  67.0\n",
       "1014   male                Edward H  66.0\n",
       "573    male                   Frank  65.0"
      ]
     },
     "execution_count": 30,
     "metadata": {},
     "output_type": "execute_result"
    }
   ],
   "source": [
    "df.query('gender==\"male\"')[['gender','f_name','age']].sort_values(by='age',ascending=False).head(10)"
   ]
  },
  {
   "cell_type": "markdown",
   "id": "9087198b",
   "metadata": {},
   "source": [
    "7. find the average age of passengers"
   ]
  },
  {
   "cell_type": "code",
   "execution_count": 31,
   "id": "08533052",
   "metadata": {},
   "outputs": [
    {
     "data": {
      "text/plain": [
       "np.float64(29.50318563789152)"
      ]
     },
     "execution_count": 31,
     "metadata": {},
     "output_type": "execute_result"
    }
   ],
   "source": [
    "df['age'].mean()"
   ]
  },
  {
   "cell_type": "markdown",
   "id": "a56df313",
   "metadata": {},
   "source": [
    "8. find the average age of female passengers\n"
   ]
  },
  {
   "cell_type": "code",
   "execution_count": 32,
   "id": "06b85a3e",
   "metadata": {},
   "outputs": [
    {
     "data": {
      "text/plain": [
       "np.float64(28.57208154506438)"
      ]
     },
     "execution_count": 32,
     "metadata": {},
     "output_type": "execute_result"
    }
   ],
   "source": [
    "df.query(\"gender=='female'\")['age'].mean()"
   ]
  },
  {
   "cell_type": "markdown",
   "id": "7592ed61",
   "metadata": {},
   "source": [
    "9. find the survival  rate of passengers"
   ]
  },
  {
   "cell_type": "code",
   "execution_count": 92,
   "id": "71ca7e74",
   "metadata": {},
   "outputs": [
    {
     "name": "stdout",
     "output_type": "stream",
     "text": [
      "Overall Survival Rate: 38.20%\n"
     ]
    }
   ],
   "source": [
    "# Overall survival rate\n",
    "survival_rate = df['survived'].mean()\n",
    "print(f\"Overall Survival Rate: {survival_rate:.2%}\")"
   ]
  },
  {
   "cell_type": "markdown",
   "id": "d44c8ffa",
   "metadata": {},
   "source": [
    "10. find the survival  rate of female passengers\n"
   ]
  },
  {
   "cell_type": "code",
   "execution_count": 93,
   "id": "247b2ae0",
   "metadata": {},
   "outputs": [
    {
     "name": "stdout",
     "output_type": "stream",
     "text": [
      "Survival Rate of Female Passengers: 72.75%\n"
     ]
    }
   ],
   "source": [
    "# Survival rate of female passengers\n",
    "female_survival_rate = df[df['gender'] == 'female']['survived'].mean()\n",
    "print(f\"Survival Rate of Female Passengers: {female_survival_rate:.2%}\")\n"
   ]
  },
  {
   "cell_type": "markdown",
   "id": "cb38e821",
   "metadata": {},
   "source": [
    "11. find the survival  rate of male passengers\n"
   ]
  },
  {
   "cell_type": "code",
   "execution_count": 94,
   "id": "fc7a04bf",
   "metadata": {},
   "outputs": [
    {
     "name": "stdout",
     "output_type": "stream",
     "text": [
      "Survival Rate of Male Passengers: 19.10%\n"
     ]
    }
   ],
   "source": [
    "# Survival rate of male passengers\n",
    "male_survival_rate = df[df['gender'] == 'male']['survived'].mean()\n",
    "print(f\"Survival Rate of Male Passengers: {male_survival_rate:.2%}\")\n"
   ]
  },
  {
   "cell_type": "markdown",
   "id": "ffa212d5",
   "metadata": {},
   "source": [
    "12. get highest and lowest age of passengers"
   ]
  },
  {
   "cell_type": "code",
   "execution_count": 33,
   "id": "4ff8ac9d",
   "metadata": {},
   "outputs": [
    {
     "data": {
      "text/html": [
       "<div>\n",
       "<style scoped>\n",
       "    .dataframe tbody tr th:only-of-type {\n",
       "        vertical-align: middle;\n",
       "    }\n",
       "\n",
       "    .dataframe tbody tr th {\n",
       "        vertical-align: top;\n",
       "    }\n",
       "\n",
       "    .dataframe thead th {\n",
       "        text-align: right;\n",
       "    }\n",
       "</style>\n",
       "<table border=\"1\" class=\"dataframe\">\n",
       "  <thead>\n",
       "    <tr style=\"text-align: right;\">\n",
       "      <th></th>\n",
       "      <th>age</th>\n",
       "    </tr>\n",
       "  </thead>\n",
       "  <tbody>\n",
       "    <tr>\n",
       "      <th>max</th>\n",
       "      <td>80.00</td>\n",
       "    </tr>\n",
       "    <tr>\n",
       "      <th>min</th>\n",
       "      <td>0.17</td>\n",
       "    </tr>\n",
       "  </tbody>\n",
       "</table>\n",
       "</div>"
      ],
      "text/plain": [
       "       age\n",
       "max  80.00\n",
       "min   0.17"
      ]
     },
     "execution_count": 33,
     "metadata": {},
     "output_type": "execute_result"
    }
   ],
   "source": [
    "df['age'].max()     #np.float64(80.0)\n",
    "df['age'].min()     #np.float64(0.17)\n",
    "\n",
    "#or\n",
    "\n",
    "df.agg({'age' : ['max','min']})"
   ]
  },
  {
   "cell_type": "markdown",
   "id": "02904531",
   "metadata": {},
   "source": [
    "13. get the highest and lowest fare amount"
   ]
  },
  {
   "cell_type": "code",
   "execution_count": 34,
   "id": "2e9a469a",
   "metadata": {},
   "outputs": [
    {
     "data": {
      "text/html": [
       "<div>\n",
       "<style scoped>\n",
       "    .dataframe tbody tr th:only-of-type {\n",
       "        vertical-align: middle;\n",
       "    }\n",
       "\n",
       "    .dataframe tbody tr th {\n",
       "        vertical-align: top;\n",
       "    }\n",
       "\n",
       "    .dataframe thead th {\n",
       "        text-align: right;\n",
       "    }\n",
       "</style>\n",
       "<table border=\"1\" class=\"dataframe\">\n",
       "  <thead>\n",
       "    <tr style=\"text-align: right;\">\n",
       "      <th></th>\n",
       "      <th>fare</th>\n",
       "    </tr>\n",
       "  </thead>\n",
       "  <tbody>\n",
       "    <tr>\n",
       "      <th>max</th>\n",
       "      <td>512.33</td>\n",
       "    </tr>\n",
       "    <tr>\n",
       "      <th>min</th>\n",
       "      <td>0.00</td>\n",
       "    </tr>\n",
       "  </tbody>\n",
       "</table>\n",
       "</div>"
      ],
      "text/plain": [
       "       fare\n",
       "max  512.33\n",
       "min    0.00"
      ]
     },
     "execution_count": 34,
     "metadata": {},
     "output_type": "execute_result"
    }
   ],
   "source": [
    "df.agg({'fare' : ['max','min']})"
   ]
  },
  {
   "cell_type": "markdown",
   "id": "a877abea",
   "metadata": {},
   "source": [
    "14. get the male passengers average fare "
   ]
  },
  {
   "cell_type": "code",
   "execution_count": 35,
   "id": "6b8c0b96",
   "metadata": {},
   "outputs": [
    {
     "data": {
      "text/plain": [
       "np.float64(26.140901542111504)"
      ]
     },
     "execution_count": 35,
     "metadata": {},
     "output_type": "execute_result"
    }
   ],
   "source": [
    "df.query(\"gender=='male'\")['fare'].mean()"
   ]
  },
  {
   "cell_type": "markdown",
   "id": "b8f59b5a",
   "metadata": {},
   "source": [
    "15. get the female passengers average fare \n"
   ]
  },
  {
   "cell_type": "code",
   "execution_count": 36,
   "id": "d5ca8bda",
   "metadata": {},
   "outputs": [
    {
     "data": {
      "text/plain": [
       "np.float64(46.198197424892705)"
      ]
     },
     "execution_count": 36,
     "metadata": {},
     "output_type": "execute_result"
    }
   ],
   "source": [
    "df.query(\"gender=='female'\")['fare'].mean()"
   ]
  },
  {
   "cell_type": "markdown",
   "id": "350c8797",
   "metadata": {},
   "source": [
    "16. how many solo travellers are travelling"
   ]
  },
  {
   "cell_type": "code",
   "execution_count": 37,
   "id": "522ca2ab",
   "metadata": {},
   "outputs": [
    {
     "data": {
      "text/plain": [
       "663"
      ]
     },
     "execution_count": 37,
     "metadata": {},
     "output_type": "execute_result"
    }
   ],
   "source": [
    "df.query(\"companion_type=='solo'\").shape[0]"
   ]
  },
  {
   "cell_type": "markdown",
   "id": "82bcac76",
   "metadata": {},
   "source": [
    "17. how many  travellers are travelling with friends"
   ]
  },
  {
   "cell_type": "code",
   "execution_count": 38,
   "id": "6d930125",
   "metadata": {},
   "outputs": [
    {
     "data": {
      "text/plain": [
       "127"
      ]
     },
     "execution_count": 38,
     "metadata": {},
     "output_type": "execute_result"
    }
   ],
   "source": [
    "df.query(\"companion_type=='friends'\").shape[0]"
   ]
  },
  {
   "cell_type": "markdown",
   "id": "eeae59b5",
   "metadata": {},
   "source": [
    "18. how many  travellers are travelling with family\n"
   ]
  },
  {
   "cell_type": "code",
   "execution_count": 39,
   "id": "4d17a6d0",
   "metadata": {},
   "outputs": [
    {
     "data": {
      "text/plain": [
       "519"
      ]
     },
     "execution_count": 39,
     "metadata": {},
     "output_type": "execute_result"
    }
   ],
   "source": [
    "df.query(\"companion_type=='family'\").shape[0]"
   ]
  },
  {
   "cell_type": "markdown",
   "id": "3000871e",
   "metadata": {},
   "source": [
    "19. get the count of passengers name,gender,age,pclass who are paying highest fare amount"
   ]
  },
  {
   "cell_type": "code",
   "execution_count": 40,
   "id": "2510bf2c",
   "metadata": {},
   "outputs": [
    {
     "data": {
      "text/plain": [
       "f_name    4\n",
       "gender    4\n",
       "age       4\n",
       "pclass    4\n",
       "dtype: int64"
      ]
     },
     "execution_count": 40,
     "metadata": {},
     "output_type": "execute_result"
    }
   ],
   "source": [
    "h=df.loc[df['fare']==df['fare'].max()][['f_name','gender','age','pclass']].count()\n",
    "h"
   ]
  },
  {
   "cell_type": "markdown",
   "id": "b046462b",
   "metadata": {},
   "source": [
    "20. get the count of passengers name,gender,age,pclass who are paying lowest fare amount\n"
   ]
  },
  {
   "cell_type": "code",
   "execution_count": 41,
   "id": "6333f9ee",
   "metadata": {},
   "outputs": [
    {
     "data": {
      "text/plain": [
       "f_name    17\n",
       "gender    17\n",
       "age       17\n",
       "pclass    17\n",
       "dtype: int64"
      ]
     },
     "execution_count": 41,
     "metadata": {},
     "output_type": "execute_result"
    }
   ],
   "source": [
    "df.loc[df['fare']==df['fare'].min()][['f_name','gender','age','pclass']].count()\n"
   ]
  },
  {
   "cell_type": "markdown",
   "id": "122e654a",
   "metadata": {},
   "source": [
    "# level-2"
   ]
  },
  {
   "cell_type": "markdown",
   "id": "94bf3d77",
   "metadata": {},
   "source": [
    "1. get the count of travellers"
   ]
  },
  {
   "cell_type": "code",
   "execution_count": 42,
   "id": "44e98de4",
   "metadata": {},
   "outputs": [
    {
     "data": {
      "text/plain": [
       "np.int64(1309)"
      ]
     },
     "execution_count": 42,
     "metadata": {},
     "output_type": "execute_result"
    }
   ],
   "source": [
    "df['ticket'].count()"
   ]
  },
  {
   "cell_type": "markdown",
   "id": "6d5959d1",
   "metadata": {},
   "source": [
    "2. get the count of survival and non-survival count"
   ]
  },
  {
   "cell_type": "code",
   "execution_count": 43,
   "id": "249993de",
   "metadata": {},
   "outputs": [
    {
     "data": {
      "text/plain": [
       "survived\n",
       "0    809\n",
       "1    500\n",
       "Name: count, dtype: int64"
      ]
     },
     "execution_count": 43,
     "metadata": {},
     "output_type": "execute_result"
    }
   ],
   "source": [
    "df['survived'].value_counts()"
   ]
  },
  {
   "cell_type": "markdown",
   "id": "cc3be262",
   "metadata": {},
   "source": [
    "3. get the count of travellers in each gender"
   ]
  },
  {
   "cell_type": "code",
   "execution_count": 44,
   "id": "c55a615e",
   "metadata": {},
   "outputs": [
    {
     "data": {
      "text/plain": [
       "gender\n",
       "male      843\n",
       "female    466\n",
       "Name: count, dtype: int64"
      ]
     },
     "execution_count": 44,
     "metadata": {},
     "output_type": "execute_result"
    }
   ],
   "source": [
    "df['gender'].value_counts()"
   ]
  },
  {
   "cell_type": "markdown",
   "id": "b4deb0d0",
   "metadata": {},
   "source": [
    "4. get the count of survival and non-survival count in each gender"
   ]
  },
  {
   "cell_type": "code",
   "execution_count": 45,
   "id": "3f264a89",
   "metadata": {},
   "outputs": [
    {
     "data": {
      "text/plain": [
       "gender  survived\n",
       "female  1           339\n",
       "        0           127\n",
       "male    0           682\n",
       "        1           161\n",
       "Name: count, dtype: int64"
      ]
     },
     "execution_count": 45,
     "metadata": {},
     "output_type": "execute_result"
    }
   ],
   "source": [
    "df.groupby(['gender'])['survived'].value_counts()"
   ]
  },
  {
   "cell_type": "markdown",
   "id": "9e86254f",
   "metadata": {},
   "source": [
    "5. get the count of travellers in each embarked"
   ]
  },
  {
   "cell_type": "code",
   "execution_count": 46,
   "id": "f9d421ee",
   "metadata": {},
   "outputs": [
    {
     "data": {
      "text/plain": [
       "embarked\n",
       "Southampton    916\n",
       "Cherbourg      270\n",
       "Queenstown     123\n",
       "Name: count, dtype: int64"
      ]
     },
     "execution_count": 46,
     "metadata": {},
     "output_type": "execute_result"
    }
   ],
   "source": [
    "df['embarked'].value_counts()"
   ]
  },
  {
   "cell_type": "markdown",
   "id": "934dc2e7",
   "metadata": {},
   "source": [
    "6. get the count of survival and non-survival count in each embarked\n"
   ]
  },
  {
   "cell_type": "code",
   "execution_count": 47,
   "id": "c981f25d",
   "metadata": {},
   "outputs": [
    {
     "data": {
      "text/plain": [
       "embarked     survived\n",
       "Cherbourg    1           150\n",
       "             0           120\n",
       "Queenstown   0            79\n",
       "             1            44\n",
       "Southampton  0           610\n",
       "             1           306\n",
       "Name: count, dtype: int64"
      ]
     },
     "execution_count": 47,
     "metadata": {},
     "output_type": "execute_result"
    }
   ],
   "source": [
    "df.groupby(['embarked'])['survived'].value_counts()"
   ]
  },
  {
   "cell_type": "markdown",
   "id": "37d1c601",
   "metadata": {},
   "source": [
    "7. get the count of travellers in each age_category\n"
   ]
  },
  {
   "cell_type": "code",
   "execution_count": 48,
   "id": "42d28813",
   "metadata": {},
   "outputs": [
    {
     "data": {
      "text/plain": [
       "age_category\n",
       "adult       833\n",
       "teen        328\n",
       "children    115\n",
       "senior       33\n",
       "Name: count, dtype: int64"
      ]
     },
     "execution_count": 48,
     "metadata": {},
     "output_type": "execute_result"
    }
   ],
   "source": [
    "df['age_category'].value_counts()"
   ]
  },
  {
   "cell_type": "markdown",
   "id": "0263fd7b",
   "metadata": {},
   "source": [
    "8. get the count of survival and non-survival count in each age_category"
   ]
  },
  {
   "cell_type": "code",
   "execution_count": 49,
   "id": "164cf81f",
   "metadata": {},
   "outputs": [
    {
     "name": "stderr",
     "output_type": "stream",
     "text": [
      "C:\\Users\\balaj\\AppData\\Local\\Temp\\ipykernel_23892\\1746203050.py:1: FutureWarning: The default of observed=False is deprecated and will be changed to True in a future version of pandas. Pass observed=False to retain current behavior or observed=True to adopt the future default and silence this warning.\n",
      "  df.groupby(['age_category'])['survived'].value_counts()\n"
     ]
    },
    {
     "data": {
      "text/plain": [
       "age_category  survived\n",
       "children      1            66\n",
       "              0            49\n",
       "teen          0           206\n",
       "              1           122\n",
       "adult         0           529\n",
       "              1           304\n",
       "senior        0            25\n",
       "              1             8\n",
       "Name: count, dtype: int64"
      ]
     },
     "execution_count": 49,
     "metadata": {},
     "output_type": "execute_result"
    }
   ],
   "source": [
    "df.groupby(['age_category'])['survived'].value_counts()"
   ]
  },
  {
   "cell_type": "markdown",
   "id": "ba89cb4f",
   "metadata": {},
   "source": [
    "9. get the count of travellers in each companion_type\n"
   ]
  },
  {
   "cell_type": "code",
   "execution_count": 50,
   "id": "c0fec7e1",
   "metadata": {},
   "outputs": [
    {
     "data": {
      "text/plain": [
       "companion_type\n",
       "solo       663\n",
       "family     519\n",
       "friends    127\n",
       "Name: count, dtype: int64"
      ]
     },
     "execution_count": 50,
     "metadata": {},
     "output_type": "execute_result"
    }
   ],
   "source": [
    "df['companion_type'].value_counts()"
   ]
  },
  {
   "cell_type": "markdown",
   "id": "f2204025",
   "metadata": {},
   "source": [
    "10. get the count of survival and non-survival count in each companion_type\n"
   ]
  },
  {
   "cell_type": "code",
   "execution_count": 51,
   "id": "9359453c",
   "metadata": {},
   "outputs": [
    {
     "data": {
      "text/plain": [
       "companion_type  survived\n",
       "family          1           261\n",
       "                0           258\n",
       "friends         0            67\n",
       "                1            60\n",
       "solo            0           484\n",
       "                1           179\n",
       "Name: count, dtype: int64"
      ]
     },
     "execution_count": 51,
     "metadata": {},
     "output_type": "execute_result"
    }
   ],
   "source": [
    "df.groupby(['companion_type'])['survived'].value_counts()"
   ]
  },
  {
   "cell_type": "markdown",
   "id": "cf4a7a6e",
   "metadata": {},
   "source": [
    "11. get the count of pclass\n"
   ]
  },
  {
   "cell_type": "code",
   "execution_count": 52,
   "id": "d4d71caf",
   "metadata": {},
   "outputs": [
    {
     "data": {
      "text/plain": [
       "np.int64(1309)"
      ]
     },
     "execution_count": 52,
     "metadata": {},
     "output_type": "execute_result"
    }
   ],
   "source": [
    "df['pclass'].count()"
   ]
  },
  {
   "cell_type": "markdown",
   "id": "7eef7325",
   "metadata": {},
   "source": [
    "12. get the count of survival and non-survival count in each pclass"
   ]
  },
  {
   "cell_type": "code",
   "execution_count": 53,
   "id": "b08c8f93",
   "metadata": {},
   "outputs": [
    {
     "data": {
      "text/plain": [
       "pclass  survived\n",
       "1       1           200\n",
       "        0           123\n",
       "2       0           158\n",
       "        1           119\n",
       "3       0           528\n",
       "        1           181\n",
       "Name: count, dtype: int64"
      ]
     },
     "execution_count": 53,
     "metadata": {},
     "output_type": "execute_result"
    }
   ],
   "source": [
    "df.groupby(['pclass'])['survived'].value_counts()"
   ]
  },
  {
   "cell_type": "markdown",
   "id": "2316b294",
   "metadata": {},
   "source": [
    "13. get the co-relation for all numerical columns"
   ]
  },
  {
   "cell_type": "code",
   "execution_count": 54,
   "id": "36fec489",
   "metadata": {},
   "outputs": [
    {
     "data": {
      "text/html": [
       "<div>\n",
       "<style scoped>\n",
       "    .dataframe tbody tr th:only-of-type {\n",
       "        vertical-align: middle;\n",
       "    }\n",
       "\n",
       "    .dataframe tbody tr th {\n",
       "        vertical-align: top;\n",
       "    }\n",
       "\n",
       "    .dataframe thead th {\n",
       "        text-align: right;\n",
       "    }\n",
       "</style>\n",
       "<table border=\"1\" class=\"dataframe\">\n",
       "  <thead>\n",
       "    <tr style=\"text-align: right;\">\n",
       "      <th></th>\n",
       "      <th>age</th>\n",
       "      <th>family_count</th>\n",
       "      <th>pclass</th>\n",
       "      <th>fare</th>\n",
       "      <th>survived</th>\n",
       "    </tr>\n",
       "  </thead>\n",
       "  <tbody>\n",
       "    <tr>\n",
       "      <th>age</th>\n",
       "      <td>1.000000</td>\n",
       "      <td>-0.193742</td>\n",
       "      <td>-0.377908</td>\n",
       "      <td>0.178180</td>\n",
       "      <td>-0.043817</td>\n",
       "    </tr>\n",
       "    <tr>\n",
       "      <th>family_count</th>\n",
       "      <td>-0.193742</td>\n",
       "      <td>1.000000</td>\n",
       "      <td>0.050027</td>\n",
       "      <td>0.226613</td>\n",
       "      <td>0.026876</td>\n",
       "    </tr>\n",
       "    <tr>\n",
       "      <th>pclass</th>\n",
       "      <td>-0.377908</td>\n",
       "      <td>0.050027</td>\n",
       "      <td>1.000000</td>\n",
       "      <td>-0.558681</td>\n",
       "      <td>-0.312469</td>\n",
       "    </tr>\n",
       "    <tr>\n",
       "      <th>fare</th>\n",
       "      <td>0.178180</td>\n",
       "      <td>0.226613</td>\n",
       "      <td>-0.558681</td>\n",
       "      <td>1.000000</td>\n",
       "      <td>0.244414</td>\n",
       "    </tr>\n",
       "    <tr>\n",
       "      <th>survived</th>\n",
       "      <td>-0.043817</td>\n",
       "      <td>0.026876</td>\n",
       "      <td>-0.312469</td>\n",
       "      <td>0.244414</td>\n",
       "      <td>1.000000</td>\n",
       "    </tr>\n",
       "  </tbody>\n",
       "</table>\n",
       "</div>"
      ],
      "text/plain": [
       "                   age  family_count    pclass      fare  survived\n",
       "age           1.000000     -0.193742 -0.377908  0.178180 -0.043817\n",
       "family_count -0.193742      1.000000  0.050027  0.226613  0.026876\n",
       "pclass       -0.377908      0.050027  1.000000 -0.558681 -0.312469\n",
       "fare          0.178180      0.226613 -0.558681  1.000000  0.244414\n",
       "survived     -0.043817      0.026876 -0.312469  0.244414  1.000000"
      ]
     },
     "execution_count": 54,
     "metadata": {},
     "output_type": "execute_result"
    }
   ],
   "source": [
    "df.corr(numeric_only=True)"
   ]
  },
  {
   "cell_type": "markdown",
   "id": "1f47f3c0",
   "metadata": {},
   "source": [
    "# Level-3"
   ]
  },
  {
   "cell_type": "markdown",
   "id": "0b416b2e",
   "metadata": {},
   "source": [
    "1. plot the female and male count"
   ]
  },
  {
   "cell_type": "code",
   "execution_count": 55,
   "id": "54747295",
   "metadata": {},
   "outputs": [
    {
     "data": {
      "text/plain": [
       "<Axes: xlabel='gender', ylabel='count'>"
      ]
     },
     "execution_count": 55,
     "metadata": {},
     "output_type": "execute_result"
    },
    {
     "data": {
      "image/png": "[encoded data removed]",
      "text/plain": [
       "<Figure size 640x480 with 1 Axes>"
      ]
     },
     "metadata": {},
     "output_type": "display_data"
    }
   ],
   "source": [
    "sns.countplot(df,x='gender')"
   ]
  },
  {
   "cell_type": "markdown",
   "id": "eb3eac79",
   "metadata": {},
   "source": [
    "2. plot the female and male count in each pclass"
   ]
  },
  {
   "cell_type": "code",
   "execution_count": 56,
   "id": "4e6e87fe",
   "metadata": {},
   "outputs": [
    {
     "data": {
      "text/plain": [
       "<Axes: xlabel='gender', ylabel='count'>"
      ]
     },
     "execution_count": 56,
     "metadata": {},
     "output_type": "execute_result"
    },
    {
     "data": {
      "image/png": "[encoded data removed]",
      "text/plain": [
       "<Figure size 640x480 with 1 Axes>"
      ]
     },
     "metadata": {},
     "output_type": "display_data"
    }
   ],
   "source": [
    "sns.countplot(df,x='gender', hue='pclass')"
   ]
  },
  {
   "cell_type": "markdown",
   "id": "2029df5d",
   "metadata": {},
   "source": [
    "2. plot the female and male count in each survival_status"
   ]
  },
  {
   "cell_type": "code",
   "execution_count": 57,
   "id": "a6ae7ad5",
   "metadata": {},
   "outputs": [
    {
     "data": {
      "text/plain": [
       "<Axes: xlabel='gender', ylabel='count'>"
      ]
     },
     "execution_count": 57,
     "metadata": {},
     "output_type": "execute_result"
    },
    {
     "data": {
      "image/png": "[encoded data removed]",
      "text/plain": [
       "<Figure size 640x480 with 1 Axes>"
      ]
     },
     "metadata": {},
     "output_type": "display_data"
    }
   ],
   "source": [
    "sns.countplot(df,x='gender', hue='survived')"
   ]
  },
  {
   "cell_type": "markdown",
   "id": "a216509f",
   "metadata": {},
   "source": [
    "1. plot the companion_type count"
   ]
  },
  {
   "cell_type": "code",
   "execution_count": 58,
   "id": "f463b2b8",
   "metadata": {},
   "outputs": [
    {
     "data": {
      "text/plain": [
       "<Axes: xlabel='companion_type', ylabel='count'>"
      ]
     },
     "execution_count": 58,
     "metadata": {},
     "output_type": "execute_result"
    },
    {
     "data": {
      "image/png": "[encoded data removed]",
      "text/plain": [
       "<Figure size 640x480 with 1 Axes>"
      ]
     },
     "metadata": {},
     "output_type": "display_data"
    }
   ],
   "source": [
    "sns.countplot(df,x='companion_type')"
   ]
  },
  {
   "cell_type": "markdown",
   "id": "e0cbde7c",
   "metadata": {},
   "source": [
    "1. plot the companion_type count in each gender"
   ]
  },
  {
   "cell_type": "code",
   "execution_count": 59,
   "id": "d2b520e6",
   "metadata": {},
   "outputs": [
    {
     "data": {
      "text/plain": [
       "<Axes: xlabel='companion_type', ylabel='count'>"
      ]
     },
     "execution_count": 59,
     "metadata": {},
     "output_type": "execute_result"
    },
    {
     "data": {
      "image/png": "[encoded data removed]",
      "text/plain": [
       "<Figure size 640x480 with 1 Axes>"
      ]
     },
     "metadata": {},
     "output_type": "display_data"
    }
   ],
   "source": [
    "sns.countplot(df,x='companion_type',hue='gender')"
   ]
  },
  {
   "cell_type": "markdown",
   "id": "2ecee9cd",
   "metadata": {},
   "source": [
    "1. plot the companion_type count in each pclass"
   ]
  },
  {
   "cell_type": "code",
   "execution_count": 60,
   "id": "d3e1ceed",
   "metadata": {},
   "outputs": [
    {
     "data": {
      "text/plain": [
       "<Axes: xlabel='companion_type', ylabel='count'>"
      ]
     },
     "execution_count": 60,
     "metadata": {},
     "output_type": "execute_result"
    },
    {
     "data": {
      "image/png": "[encoded data removed]",
      "text/plain": [
       "<Figure size 640x480 with 1 Axes>"
      ]
     },
     "metadata": {},
     "output_type": "display_data"
    }
   ],
   "source": [
    "sns.countplot(df,x='companion_type',hue='pclass')"
   ]
  },
  {
   "cell_type": "markdown",
   "id": "476cb296",
   "metadata": {},
   "source": [
    "1. plot the companion_type count in each survival_status"
   ]
  },
  {
   "cell_type": "code",
   "execution_count": 61,
   "id": "f1dd379d",
   "metadata": {},
   "outputs": [
    {
     "data": {
      "text/plain": [
       "<Axes: xlabel='companion_type', ylabel='count'>"
      ]
     },
     "execution_count": 61,
     "metadata": {},
     "output_type": "execute_result"
    },
    {
     "data": {
      "image/png": "[encoded data removed]",
      "text/plain": [
       "<Figure size 640x480 with 1 Axes>"
      ]
     },
     "metadata": {},
     "output_type": "display_data"
    }
   ],
   "source": [
    "sns.countplot(df,x='companion_type',hue='survived')"
   ]
  },
  {
   "cell_type": "markdown",
   "id": "21d0a4bb",
   "metadata": {},
   "source": [
    "1. plot the age_category count in each gender\n"
   ]
  },
  {
   "cell_type": "code",
   "execution_count": 62,
   "id": "54a8e22a",
   "metadata": {},
   "outputs": [
    {
     "data": {
      "text/plain": [
       "<Axes: xlabel='age_category', ylabel='count'>"
      ]
     },
     "execution_count": 62,
     "metadata": {},
     "output_type": "execute_result"
    },
    {
     "data": {
      "image/png": "[encoded data removed]",
      "text/plain": [
       "<Figure size 640x480 with 1 Axes>"
      ]
     },
     "metadata": {},
     "output_type": "display_data"
    }
   ],
   "source": [
    "sns.countplot(df,x='age_category',hue='gender')"
   ]
  },
  {
   "cell_type": "markdown",
   "id": "2c3f1c29",
   "metadata": {},
   "source": [
    "1. plot the age_category count in each pclass"
   ]
  },
  {
   "cell_type": "code",
   "execution_count": 63,
   "id": "31c5dd2b",
   "metadata": {},
   "outputs": [
    {
     "data": {
      "text/plain": [
       "<Axes: xlabel='age_category', ylabel='count'>"
      ]
     },
     "execution_count": 63,
     "metadata": {},
     "output_type": "execute_result"
    },
    {
     "data": {
      "image/png": "[encoded data removed]",
      "text/plain": [
       "<Figure size 640x480 with 1 Axes>"
      ]
     },
     "metadata": {},
     "output_type": "display_data"
    }
   ],
   "source": [
    "sns.countplot(df,x='age_category',hue='pclass')"
   ]
  },
  {
   "cell_type": "markdown",
   "id": "4be4e593",
   "metadata": {},
   "source": [
    "1. plot the age_category count in each survival_status\n"
   ]
  },
  {
   "cell_type": "code",
   "execution_count": 64,
   "id": "9606ddc2",
   "metadata": {},
   "outputs": [
    {
     "data": {
      "text/plain": [
       "<Axes: xlabel='age_category', ylabel='count'>"
      ]
     },
     "execution_count": 64,
     "metadata": {},
     "output_type": "execute_result"
    },
    {
     "data": {
      "image/png": "[encoded data removed]",
      "text/plain": [
       "<Figure size 640x480 with 1 Axes>"
      ]
     },
     "metadata": {},
     "output_type": "display_data"
    }
   ],
   "source": [
    "sns.countplot(df,x='age_category',hue='survived')"
   ]
  },
  {
   "cell_type": "markdown",
   "id": "a98776bd",
   "metadata": {},
   "source": [
    "1. plot the embarked count in each gender"
   ]
  },
  {
   "cell_type": "code",
   "execution_count": 65,
   "id": "89656db7",
   "metadata": {},
   "outputs": [
    {
     "data": {
      "text/plain": [
       "<Axes: xlabel='embarked', ylabel='count'>"
      ]
     },
     "execution_count": 65,
     "metadata": {},
     "output_type": "execute_result"
    },
    {
     "data": {
      "image/png": "[encoded data removed]",
      "text/plain": [
       "<Figure size 640x480 with 1 Axes>"
      ]
     },
     "metadata": {},
     "output_type": "display_data"
    }
   ],
   "source": [
    "sns.countplot(df,x='embarked',hue='gender')"
   ]
  },
  {
   "cell_type": "markdown",
   "id": "1314d66b",
   "metadata": {},
   "source": [
    "1. plot the embarked count in each survival_status\n"
   ]
  },
  {
   "cell_type": "code",
   "execution_count": 66,
   "id": "a3dfbecb",
   "metadata": {},
   "outputs": [
    {
     "data": {
      "text/plain": [
       "<Axes: xlabel='embarked', ylabel='count'>"
      ]
     },
     "execution_count": 66,
     "metadata": {},
     "output_type": "execute_result"
    },
    {
     "data": {
      "image/png": "[encoded data removed]",
      "text/plain": [
       "<Figure size 640x480 with 1 Axes>"
      ]
     },
     "metadata": {},
     "output_type": "display_data"
    }
   ],
   "source": [
    "sns.countplot(df,x='embarked',hue='survived')"
   ]
  },
  {
   "cell_type": "markdown",
   "id": "a4534c04",
   "metadata": {},
   "source": [
    "1. plot the embarked count in each pclass"
   ]
  },
  {
   "cell_type": "code",
   "execution_count": 67,
   "id": "1f0bc9e9",
   "metadata": {},
   "outputs": [
    {
     "data": {
      "text/plain": [
       "<Axes: xlabel='embarked', ylabel='count'>"
      ]
     },
     "execution_count": 67,
     "metadata": {},
     "output_type": "execute_result"
    },
    {
     "data": {
      "image/png": "[encoded data removed]",
      "text/plain": [
       "<Figure size 640x480 with 1 Axes>"
      ]
     },
     "metadata": {},
     "output_type": "display_data"
    }
   ],
   "source": [
    "sns.countplot(df,x='embarked',hue='pclass')"
   ]
  },
  {
   "cell_type": "markdown",
   "id": "132e8e7d",
   "metadata": {},
   "source": [
    "2. plot the distribution of fare"
   ]
  },
  {
   "cell_type": "code",
   "execution_count": 68,
   "id": "9c915cbd",
   "metadata": {},
   "outputs": [
    {
     "data": {
      "image/png": "[encoded data removed]",
      "text/plain": [
       "<Figure size 640x480 with 1 Axes>"
      ]
     },
     "metadata": {},
     "output_type": "display_data"
    }
   ],
   "source": [
    "plt.Figure(figsize=(4,2))\n",
    "sns.kdeplot(df['fare'])\n",
    "plt.show()"
   ]
  },
  {
   "cell_type": "markdown",
   "id": "aeebbed9",
   "metadata": {},
   "source": [
    "3. plot the distribution of age"
   ]
  },
  {
   "cell_type": "code",
   "execution_count": 69,
   "id": "8da3dd3e",
   "metadata": {},
   "outputs": [
    {
     "data": {
      "text/plain": [
       "<Axes: xlabel='age', ylabel='Density'>"
      ]
     },
     "execution_count": 69,
     "metadata": {},
     "output_type": "execute_result"
    },
    {
     "data": {
      "image/png": "[encoded data removed]",
      "text/plain": [
       "<Figure size 640x480 with 1 Axes>"
      ]
     },
     "metadata": {},
     "output_type": "display_data"
    }
   ],
   "source": [
    "sns.kdeplot(df['age'])"
   ]
  },
  {
   "cell_type": "markdown",
   "id": "e33dbe97",
   "metadata": {},
   "source": [
    "4. plot the percentage of passengers in each pclass"
   ]
  },
  {
   "cell_type": "code",
   "execution_count": 70,
   "id": "840f9601",
   "metadata": {},
   "outputs": [
    {
     "data": {
      "text/plain": [
       "Index([3, 1, 2], dtype='int64', name='pclass')"
      ]
     },
     "execution_count": 70,
     "metadata": {},
     "output_type": "execute_result"
    }
   ],
   "source": [
    "p=df['pclass'].value_counts()\n",
    "p.values\n",
    "p.index"
   ]
  },
  {
   "cell_type": "code",
   "execution_count": 71,
   "id": "79d67fb5",
   "metadata": {},
   "outputs": [
    {
     "data": {
      "image/png": "[encoded data removed]",
      "text/plain": [
       "<Figure size 640x480 with 1 Axes>"
      ]
     },
     "metadata": {},
     "output_type": "display_data"
    }
   ],
   "source": [
    "plt.Figure(figsize=(4,2))\n",
    "plt.pie(x=p.values,labels=p.index,autopct='%.2f%%')\n",
    "plt.show()"
   ]
  },
  {
   "cell_type": "markdown",
   "id": "fef97fc4",
   "metadata": {},
   "source": [
    "4. plot the percentage of passengers in each age_category"
   ]
  },
  {
   "cell_type": "code",
   "execution_count": 72,
   "id": "58ecf356",
   "metadata": {},
   "outputs": [
    {
     "data": {
      "image/png": "[encoded data removed]",
      "text/plain": [
       "<Figure size 640x480 with 1 Axes>"
      ]
     },
     "metadata": {},
     "output_type": "display_data"
    }
   ],
   "source": [
    "a=df['age_category'].value_counts()\n",
    "a.values\n",
    "a.index\n",
    "\n",
    "plt.Figure(figsize=(4,2))\n",
    "plt.pie(x=a.values,labels=a.index,autopct='%.2f%%')\n",
    "plt.show()"
   ]
  },
  {
   "cell_type": "markdown",
   "id": "d37dccde",
   "metadata": {},
   "source": [
    "plot the spread of data in age_column wrt fare_column"
   ]
  },
  {
   "cell_type": "code",
   "execution_count": 80,
   "id": "2b438676",
   "metadata": {},
   "outputs": [
    {
     "data": {
      "text/plain": [
       "Text(0.5, 1.0, 'Age vs Fare')"
      ]
     },
     "execution_count": 80,
     "metadata": {},
     "output_type": "execute_result"
    },
    {
     "data": {
      "image/png": "[encoded data removed]",
      "text/plain": [
       "<Figure size 640x480 with 1 Axes>"
      ]
     },
     "metadata": {},
     "output_type": "display_data"
    }
   ],
   "source": [
    "sns.scatterplot(df,x='age',y='fare')\n",
    "plt.title('Age vs Fare')"
   ]
  },
  {
   "cell_type": "markdown",
   "id": "ab96f3ac",
   "metadata": {},
   "source": [
    "plot the trend of age wrt fare"
   ]
  },
  {
   "cell_type": "code",
   "execution_count": 81,
   "id": "fb17d2e2",
   "metadata": {},
   "outputs": [
    {
     "data": {
      "text/plain": [
       "Text(0.5, 1.0, 'Age vs Fare with Regression Line')"
      ]
     },
     "execution_count": 81,
     "metadata": {},
     "output_type": "execute_result"
    },
    {
     "data": {
      "image/png": "[encoded data removed]",
      "text/plain": [
       "<Figure size 640x480 with 1 Axes>"
      ]
     },
     "metadata": {},
     "output_type": "display_data"
    }
   ],
   "source": [
    "sns.regplot(df,x='age',y='fare',order=2)\n",
    "plt.title('Age vs Fare with Regression Line')"
   ]
  },
  {
   "cell_type": "markdown",
   "id": "09a8af14",
   "metadata": {},
   "source": [
    "plot the trend of fare wrt pclass"
   ]
  },
  {
   "cell_type": "code",
   "execution_count": 84,
   "id": "4f71f448",
   "metadata": {},
   "outputs": [
    {
     "data": {
      "text/plain": [
       "<seaborn.axisgrid.FacetGrid at 0x2839a319810>"
      ]
     },
     "execution_count": 84,
     "metadata": {},
     "output_type": "execute_result"
    },
    {
     "data": {
      "image/png": "[encoded data removed]",
      "text/plain": [
       "<Figure size 500x500 with 1 Axes>"
      ]
     },
     "metadata": {},
     "output_type": "display_data"
    }
   ],
   "source": [
    "sns.lmplot(df,x='fare',y='pclass')"
   ]
  },
  {
   "cell_type": "markdown",
   "id": "0f0a3f52",
   "metadata": {},
   "source": [
    "find the outlier in fare,age"
   ]
  },
  {
   "cell_type": "code",
   "execution_count": 85,
   "id": "03e99eba",
   "metadata": {},
   "outputs": [
    {
     "data": {
      "text/plain": [
       "<Axes: xlabel='fare', ylabel='age'>"
      ]
     },
     "execution_count": 85,
     "metadata": {},
     "output_type": "execute_result"
    },
    {
     "data": {
      "image/png": "[encoded data removed]",
      "text/plain": [
       "<Figure size 640x480 with 1 Axes>"
      ]
     },
     "metadata": {},
     "output_type": "display_data"
    }
   ],
   "source": [
    "sns.boxplot(df,x='fare',y='age')"
   ]
  },
  {
   "cell_type": "markdown",
   "id": "8b087edf",
   "metadata": {},
   "source": [
    " get the co-relation for all numerical columns using heatmap\n"
   ]
  },
  {
   "cell_type": "code",
   "execution_count": 86,
   "id": "9ff00462",
   "metadata": {},
   "outputs": [
    {
     "data": {
      "text/plain": [
       "<Axes: >"
      ]
     },
     "execution_count": 86,
     "metadata": {},
     "output_type": "execute_result"
    },
    {
     "data": {
      "image/png": "[encoded data removed]",
      "text/plain": [
       "<Figure size 640x480 with 2 Axes>"
      ]
     },
     "metadata": {},
     "output_type": "display_data"
    }
   ],
   "source": [
    "sns.heatmap(df.corr(numeric_only=True), annot=True, cmap='coolwarm')"
   ]
  },
  {
   "cell_type": "markdown",
   "id": "e95549f1",
   "metadata": {},
   "source": [
    "survival_rate of gender in each pclass\n",
    "avg_age of gender in each pclass\n",
    "avg_fare of gender in each pclass\n",
    "\n",
    "\n",
    "\n",
    "survival_rate of gender in each age_category\n",
    "survival_rate of companion_type in each age_category\n"
   ]
  },
  {
   "cell_type": "code",
   "execution_count": 87,
   "id": "b439da11",
   "metadata": {},
   "outputs": [
    {
     "name": "stdout",
     "output_type": "stream",
     "text": [
      "   pclass  gender  survived\n",
      "0       1  female  0.965278\n",
      "1       1    male  0.340782\n",
      "2       2  female  0.886792\n",
      "3       2    male  0.146199\n",
      "4       3  female  0.490741\n",
      "5       3    male  0.152130\n"
     ]
    }
   ],
   "source": [
    "survival_rate_gender_pclass = df.groupby(['pclass', 'gender'])['survived'].mean().reset_index()\n",
    "print(survival_rate_gender_pclass)\n"
   ]
  },
  {
   "cell_type": "code",
   "execution_count": 88,
   "id": "45d3c52a",
   "metadata": {},
   "outputs": [
    {
     "name": "stdout",
     "output_type": "stream",
     "text": [
      "   pclass  gender        age\n",
      "0       1  female  36.347222\n",
      "1       1    male  38.991173\n",
      "2       2  female  27.513396\n",
      "3       2    male  30.601345\n",
      "4       3  female  23.908194\n",
      "5       3    male  26.557465\n"
     ]
    }
   ],
   "source": [
    "avg_age_gender_pclass = df.groupby(['pclass', 'gender'])['age'].mean().reset_index()\n",
    "print(avg_age_gender_pclass)\n"
   ]
  },
  {
   "cell_type": "code",
   "execution_count": 89,
   "id": "6cc1961f",
   "metadata": {},
   "outputs": [
    {
     "name": "stdout",
     "output_type": "stream",
     "text": [
      "   pclass  gender        fare\n",
      "0       1  female  109.412500\n",
      "1       1    male   69.888380\n",
      "2       2  female   23.234811\n",
      "3       2    male   19.905029\n",
      "4       3  female   15.324398\n",
      "5       3    male   12.419878\n"
     ]
    }
   ],
   "source": [
    "avg_fare_gender_pclass = df.groupby(['pclass', 'gender'])['fare'].mean().reset_index()\n",
    "print(avg_fare_gender_pclass)\n"
   ]
  },
  {
   "cell_type": "code",
   "execution_count": 90,
   "id": "e8178d3d",
   "metadata": {},
   "outputs": [
    {
     "name": "stdout",
     "output_type": "stream",
     "text": [
      "  age_category  gender  survived\n",
      "0     children  female  0.660714\n",
      "1     children    male  0.491525\n",
      "2         teen  female  0.737705\n",
      "3         teen    male  0.155340\n",
      "4        adult  female  0.733096\n",
      "5        adult    male  0.177536\n",
      "6       senior  female  0.857143\n",
      "7       senior    male  0.076923\n"
     ]
    },
    {
     "name": "stderr",
     "output_type": "stream",
     "text": [
      "C:\\Users\\balaj\\AppData\\Local\\Temp\\ipykernel_23892\\1385586653.py:1: FutureWarning: The default of observed=False is deprecated and will be changed to True in a future version of pandas. Pass observed=False to retain current behavior or observed=True to adopt the future default and silence this warning.\n",
      "  survival_rate_gender_agecat = df.groupby(['age_category', 'gender'])['survived'].mean().reset_index()\n"
     ]
    }
   ],
   "source": [
    "survival_rate_gender_agecat = df.groupby(['age_category', 'gender'])['survived'].mean().reset_index()\n",
    "print(survival_rate_gender_agecat)\n"
   ]
  },
  {
   "cell_type": "code",
   "execution_count": 91,
   "id": "b236d4fa",
   "metadata": {},
   "outputs": [
    {
     "name": "stdout",
     "output_type": "stream",
     "text": [
      "   age_category companion_type  survived\n",
      "0      children         family  0.566038\n",
      "1      children        friends  0.500000\n",
      "2      children           solo  0.800000\n",
      "3          teen         family  0.554545\n",
      "4          teen        friends  0.321429\n",
      "5          teen           solo  0.273684\n",
      "6         adult         family  0.467354\n",
      "7         adult        friends  0.510638\n",
      "8         adult           solo  0.267857\n",
      "9        senior         family  0.333333\n",
      "10       senior        friends  1.000000\n",
      "11       senior           solo  0.150000\n"
     ]
    },
    {
     "name": "stderr",
     "output_type": "stream",
     "text": [
      "C:\\Users\\balaj\\AppData\\Local\\Temp\\ipykernel_23892\\2921074132.py:1: FutureWarning: The default of observed=False is deprecated and will be changed to True in a future version of pandas. Pass observed=False to retain current behavior or observed=True to adopt the future default and silence this warning.\n",
      "  survival_rate_companion_agecat = df.groupby(['age_category', 'companion_type'])['survived'].mean().reset_index()\n"
     ]
    }
   ],
   "source": [
    "survival_rate_companion_agecat = df.groupby(['age_category', 'companion_type'])['survived'].mean().reset_index()\n",
    "print(survival_rate_companion_agecat)\n"
   ]
  },
  {
   "cell_type": "code",
   "execution_count": 74,
   "id": "248fecc1",
   "metadata": {},
   "outputs": [
    {
     "data": {
      "text/plain": [
       "Index(['ticket', 'title', 'f_name', 'l_name', 'gender', 'age',\n",
       "       'companion_type', 'family_count', 'pclass', 'embarked', 'fare',\n",
       "       'survived', 'age_category'],\n",
       "      dtype='object')"
      ]
     },
     "execution_count": 74,
     "metadata": {},
     "output_type": "execute_result"
    }
   ],
   "source": [
    "df.columns"
   ]
  },
  {
   "cell_type": "code",
   "execution_count": 75,
   "id": "7f226027",
   "metadata": {},
   "outputs": [
    {
     "data": {
      "image/png": "[encoded data removed]",
      "text/plain": [
       "<Figure size 300x300 with 1 Axes>"
      ]
     },
     "metadata": {},
     "output_type": "display_data"
    }
   ],
   "source": [
    "plt.figure(figsize=(3,3))\n",
    "sns.barplot(df,x='companion_type',y='survived',hue='age_category')\n",
    "plt.show()"
   ]
  },
  {
   "cell_type": "code",
   "execution_count": 76,
   "id": "93b5b7a7",
   "metadata": {},
   "outputs": [
    {
     "data": {
      "text/plain": [
       "<seaborn.axisgrid.FacetGrid at 0x283ffcdea50>"
      ]
     },
     "execution_count": 76,
     "metadata": {},
     "output_type": "execute_result"
    },
    {
     "data": {
      "image/png": "[encoded data removed]",
      "text/plain": [
       "<Figure size 1200x300 with 4 Axes>"
      ]
     },
     "metadata": {},
     "output_type": "display_data"
    }
   ],
   "source": [
    "fg = sns.FacetGrid(df,col='age_category')\n",
    "fg.map_dataframe(sns.barplot, x='companion_type',y= 'survived')\n"
   ]
  },
  {
   "cell_type": "code",
   "execution_count": 77,
   "id": "c9974e39",
   "metadata": {},
   "outputs": [
    {
     "data": {
      "text/plain": [
       "<seaborn.axisgrid.FacetGrid at 0x283998ea5d0>"
      ]
     },
     "execution_count": 77,
     "metadata": {},
     "output_type": "execute_result"
    },
    {
     "data": {
      "image/png": "[encoded data removed]",
      "text/plain": [
       "<Figure size 998x300 with 3 Axes>"
      ]
     },
     "metadata": {},
     "output_type": "display_data"
    }
   ],
   "source": [
    "fg = sns.FacetGrid(df,col='companion_type')\n",
    "fg.map_dataframe(sns.barplot, x='age_category',y= 'survived',hue='gender',palette='coolwarm',hue_order=['male','female'])\n",
    "fg.add_legend()\n"
   ]
  },
  {
   "cell_type": "markdown",
   "id": "9f6cd381",
   "metadata": {},
   "source": [
    "plot pclass vice no of passengers"
   ]
  },
  {
   "cell_type": "code",
   "execution_count": 78,
   "id": "fc0e0662",
   "metadata": {},
   "outputs": [
    {
     "data": {
      "image/png": "[encoded data removed]",
      "text/plain": [
       "<Figure size 640x480 with 1 Axes>"
      ]
     },
     "metadata": {},
     "output_type": "display_data"
    }
   ],
   "source": [
    "plt.Figure(figsize=(4,2))\n",
    "c=sns.countplot(x=df['pclass'],order=df['pclass'].value_counts().index)\n",
    "c.bar_label(c.containers[0])\n",
    "plt.show()"
   ]
  },
  {
   "cell_type": "code",
   "execution_count": 79,
   "id": "eacb5178",
   "metadata": {},
   "outputs": [
    {
     "data": {
      "image/png": "[encoded data removed]",
      "text/plain": [
       "<Figure size 640x480 with 1 Axes>"
      ]
     },
     "metadata": {},
     "output_type": "display_data"
    }
   ],
   "source": [
    "plt.Figure(figsize=(4,2))\n",
    "c=sns.countplot(x=df['pclass'],hue=df['gender'])\n",
    "\n",
    "for i  in c.containers:\n",
    "    c.bar_label(i)"
   ]
  }
 ],
 "metadata": {
  "kernelspec": {
   "display_name": "Python 3",
   "language": "python",
   "name": "python3"
  },
  "language_info": {
   "codemirror_mode": {
    "name": "ipython",
    "version": 3
   },
   "file_extension": ".py",
   "mimetype": "text/x-python",
   "name": "python",
   "nbconvert_exporter": "python",
   "pygments_lexer": "ipython3",
   "version": "3.13.5"
  }
 },
 "nbformat": 4,
 "nbformat_minor": 5
}
